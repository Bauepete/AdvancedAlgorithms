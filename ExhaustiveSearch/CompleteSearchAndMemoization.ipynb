{
 "cells": [
  {
   "cell_type": "markdown",
   "metadata": {},
   "source": [
    "# The Coin Change Problem Revisited"
   ]
  },
  {
   "cell_type": "markdown",
   "metadata": {},
   "source": [
    "## Greedy Revisited"
   ]
  },
  {
   "cell_type": "markdown",
   "metadata": {},
   "source": [
    "We know that we can solve the Coin Change Problem using a greedy algorithm."
   ]
  },
  {
   "cell_type": "code",
   "execution_count": 143,
   "metadata": {},
   "outputs": [],
   "source": [
    "def get_change_greedy(available_coins, change_to_give):\n",
    "    available_coins.sort(reverse = True)\n",
    "    change_given = []\n",
    "    for c in available_coins:\n",
    "        number = int(change_to_give / c)\n",
    "        if number > 0:\n",
    "            change_given = change_given + [c] * number\n",
    "            change_to_give = change_to_give - c * number\n",
    "    return change_given"
   ]
  },
  {
   "cell_type": "code",
   "execution_count": 144,
   "metadata": {},
   "outputs": [
    {
     "data": {
      "text/plain": [
       "[50, 10, 2, 1]"
      ]
     },
     "execution_count": 144,
     "metadata": {},
     "output_type": "execute_result"
    }
   ],
   "source": [
    "get_change_greedy([1, 2, 5, 10, 50], 63)"
   ]
  },
  {
   "cell_type": "markdown",
   "metadata": {},
   "source": [
    "But we also know that we can easily find a sceanrio where greedy fails. In the following case the optimal solution would be to give 3 coins twice 10 cents and one 11 cent coin."
   ]
  },
  {
   "cell_type": "code",
   "execution_count": 149,
   "metadata": {},
   "outputs": [
    {
     "data": {
      "text/plain": [
       "[11, 11, 5, 2, 2]"
      ]
     },
     "execution_count": 149,
     "metadata": {},
     "output_type": "execute_result"
    }
   ],
   "source": [
    "get_change_greedy([1, 2, 5, 10, 11, 50], 31)"
   ]
  },
  {
   "cell_type": "markdown",
   "metadata": {},
   "source": [
    "## Complete Search"
   ]
  },
  {
   "cell_type": "markdown",
   "metadata": {},
   "source": [
    "A possible solution to this problem is complete search. This strategy searches for all solutions and keeps only the smallest one."
   ]
  },
  {
   "cell_type": "code",
   "execution_count": 146,
   "metadata": {},
   "outputs": [],
   "source": [
    "def get_change_complete_search(available_coins, change_to_give):\n",
    "    minimal_number_of_coins = change_to_give # worst case to give n one cent coins\n",
    "    coins_for_change = []\n",
    "    \n",
    "    if change_to_give in available_coins:\n",
    "        minimal_number_of_coins = 1\n",
    "        coins_for_change = [change_to_give]\n",
    "    else:\n",
    "        global ping\n",
    "        ping += 1\n",
    "\n",
    "        for a_coin in [fitting_coin for fitting_coin in available_coins if fitting_coin < change_to_give]:\n",
    "            coins_needed = [a_coin] + get_change_complete_search(available_coins, change_to_give - a_coin)\n",
    "            coins_count = len(coins_needed)\n",
    "            if (coins_count < minimal_number_of_coins):\n",
    "                minimal_number_of_coins = coins_count\n",
    "                coins_for_change = coins_needed\n",
    "    return coins_for_change"
   ]
  },
  {
   "cell_type": "code",
   "execution_count": 148,
   "metadata": {},
   "outputs": [
    {
     "data": {
      "text/plain": [
       "[10, 10, 11]"
      ]
     },
     "execution_count": 148,
     "metadata": {},
     "output_type": "execute_result"
    }
   ],
   "source": [
    "ping = 0\n",
    "get_change_complete_search([1, 2, 5, 10, 11, 50], 31)"
   ]
  },
  {
   "cell_type": "markdown",
   "metadata": {},
   "source": [
    "There is one main problem with complete search. It really costs time. `get_change_complete_search(..)` tracks its number of calls where it has to try all the values by increasing a global variable `ping`. Lets see its value then."
   ]
  },
  {
   "cell_type": "code",
   "execution_count": 150,
   "metadata": {},
   "outputs": [
    {
     "data": {
      "text/plain": [
       "347944"
      ]
     },
     "execution_count": 150,
     "metadata": {},
     "output_type": "execute_result"
    }
   ],
   "source": [
    "ping"
   ]
  },
  {
   "cell_type": "markdown",
   "metadata": {},
   "source": [
    "Needless to say that an only little bit larger number shows the clear limits of this approach. Most probably you will  interrupt the kernel and calculate the change by hand if you don't have a coffee break to calm your customer during this time."
   ]
  },
  {
   "cell_type": "code",
   "execution_count": 140,
   "metadata": {},
   "outputs": [
    {
     "ename": "KeyboardInterrupt",
     "evalue": "",
     "output_type": "error",
     "traceback": [
      "\u001b[0;31m---------------------------------------------------------------------------\u001b[0m",
      "\u001b[0;31mKeyboardInterrupt\u001b[0m                         Traceback (most recent call last)",
      "\u001b[0;32m<ipython-input-140-fe4409c6d369>\u001b[0m in \u001b[0;36m<module>\u001b[0;34m\u001b[0m\n\u001b[1;32m      1\u001b[0m \u001b[0mping\u001b[0m \u001b[0;34m=\u001b[0m \u001b[0;36m0\u001b[0m\u001b[0;34m\u001b[0m\u001b[0;34m\u001b[0m\u001b[0m\n\u001b[0;32m----> 2\u001b[0;31m \u001b[0mget_change_complete_search\u001b[0m\u001b[0;34m(\u001b[0m\u001b[0;34m[\u001b[0m\u001b[0;36m1\u001b[0m\u001b[0;34m,\u001b[0m \u001b[0;36m2\u001b[0m\u001b[0;34m,\u001b[0m \u001b[0;36m5\u001b[0m\u001b[0;34m,\u001b[0m \u001b[0;36m10\u001b[0m\u001b[0;34m,\u001b[0m \u001b[0;36m21\u001b[0m\u001b[0;34m,\u001b[0m \u001b[0;36m50\u001b[0m\u001b[0;34m]\u001b[0m\u001b[0;34m,\u001b[0m \u001b[0;36m63\u001b[0m\u001b[0;34m)\u001b[0m\u001b[0;34m\u001b[0m\u001b[0;34m\u001b[0m\u001b[0m\n\u001b[0m",
      "\u001b[0;32m<ipython-input-113-f1c19d37498b>\u001b[0m in \u001b[0;36mget_change_complete_search\u001b[0;34m(available_coins, change_to_give)\u001b[0m\n\u001b[1;32m     11\u001b[0m \u001b[0;34m\u001b[0m\u001b[0m\n\u001b[1;32m     12\u001b[0m         \u001b[0;32mfor\u001b[0m \u001b[0ma_coin\u001b[0m \u001b[0;32min\u001b[0m \u001b[0;34m[\u001b[0m\u001b[0mfitting_coin\u001b[0m \u001b[0;32mfor\u001b[0m \u001b[0mfitting_coin\u001b[0m \u001b[0;32min\u001b[0m \u001b[0mavailable_coins\u001b[0m \u001b[0;32mif\u001b[0m \u001b[0mfitting_coin\u001b[0m \u001b[0;34m<\u001b[0m \u001b[0mchange_to_give\u001b[0m\u001b[0;34m]\u001b[0m\u001b[0;34m:\u001b[0m\u001b[0;34m\u001b[0m\u001b[0;34m\u001b[0m\u001b[0m\n\u001b[0;32m---> 13\u001b[0;31m             \u001b[0mcoins_needed\u001b[0m \u001b[0;34m=\u001b[0m \u001b[0;34m[\u001b[0m\u001b[0ma_coin\u001b[0m\u001b[0;34m]\u001b[0m \u001b[0;34m+\u001b[0m \u001b[0mget_change_complete_search\u001b[0m\u001b[0;34m(\u001b[0m\u001b[0mavailable_coins\u001b[0m\u001b[0;34m,\u001b[0m \u001b[0mchange_to_give\u001b[0m \u001b[0;34m-\u001b[0m \u001b[0ma_coin\u001b[0m\u001b[0;34m)\u001b[0m\u001b[0;34m\u001b[0m\u001b[0;34m\u001b[0m\u001b[0m\n\u001b[0m\u001b[1;32m     14\u001b[0m             \u001b[0mcoins_count\u001b[0m \u001b[0;34m=\u001b[0m \u001b[0mlen\u001b[0m\u001b[0;34m(\u001b[0m\u001b[0mcoins_needed\u001b[0m\u001b[0;34m)\u001b[0m\u001b[0;34m\u001b[0m\u001b[0;34m\u001b[0m\u001b[0m\n\u001b[1;32m     15\u001b[0m             \u001b[0;32mif\u001b[0m \u001b[0;34m(\u001b[0m\u001b[0mcoins_count\u001b[0m \u001b[0;34m<\u001b[0m \u001b[0mminimal_number_of_coins\u001b[0m\u001b[0;34m)\u001b[0m\u001b[0;34m:\u001b[0m\u001b[0;34m\u001b[0m\u001b[0;34m\u001b[0m\u001b[0m\n",
      "\u001b[0;32m<ipython-input-113-f1c19d37498b>\u001b[0m in \u001b[0;36mget_change_complete_search\u001b[0;34m(available_coins, change_to_give)\u001b[0m\n\u001b[1;32m     11\u001b[0m \u001b[0;34m\u001b[0m\u001b[0m\n\u001b[1;32m     12\u001b[0m         \u001b[0;32mfor\u001b[0m \u001b[0ma_coin\u001b[0m \u001b[0;32min\u001b[0m \u001b[0;34m[\u001b[0m\u001b[0mfitting_coin\u001b[0m \u001b[0;32mfor\u001b[0m \u001b[0mfitting_coin\u001b[0m \u001b[0;32min\u001b[0m \u001b[0mavailable_coins\u001b[0m \u001b[0;32mif\u001b[0m \u001b[0mfitting_coin\u001b[0m \u001b[0;34m<\u001b[0m \u001b[0mchange_to_give\u001b[0m\u001b[0;34m]\u001b[0m\u001b[0;34m:\u001b[0m\u001b[0;34m\u001b[0m\u001b[0;34m\u001b[0m\u001b[0m\n\u001b[0;32m---> 13\u001b[0;31m             \u001b[0mcoins_needed\u001b[0m \u001b[0;34m=\u001b[0m \u001b[0;34m[\u001b[0m\u001b[0ma_coin\u001b[0m\u001b[0;34m]\u001b[0m \u001b[0;34m+\u001b[0m \u001b[0mget_change_complete_search\u001b[0m\u001b[0;34m(\u001b[0m\u001b[0mavailable_coins\u001b[0m\u001b[0;34m,\u001b[0m \u001b[0mchange_to_give\u001b[0m \u001b[0;34m-\u001b[0m \u001b[0ma_coin\u001b[0m\u001b[0;34m)\u001b[0m\u001b[0;34m\u001b[0m\u001b[0;34m\u001b[0m\u001b[0m\n\u001b[0m\u001b[1;32m     14\u001b[0m             \u001b[0mcoins_count\u001b[0m \u001b[0;34m=\u001b[0m \u001b[0mlen\u001b[0m\u001b[0;34m(\u001b[0m\u001b[0mcoins_needed\u001b[0m\u001b[0;34m)\u001b[0m\u001b[0;34m\u001b[0m\u001b[0;34m\u001b[0m\u001b[0m\n\u001b[1;32m     15\u001b[0m             \u001b[0;32mif\u001b[0m \u001b[0;34m(\u001b[0m\u001b[0mcoins_count\u001b[0m \u001b[0;34m<\u001b[0m \u001b[0mminimal_number_of_coins\u001b[0m\u001b[0;34m)\u001b[0m\u001b[0;34m:\u001b[0m\u001b[0;34m\u001b[0m\u001b[0;34m\u001b[0m\u001b[0m\n",
      "\u001b[0;32m<ipython-input-113-f1c19d37498b>\u001b[0m in \u001b[0;36mget_change_complete_search\u001b[0;34m(available_coins, change_to_give)\u001b[0m\n\u001b[1;32m     11\u001b[0m \u001b[0;34m\u001b[0m\u001b[0m\n\u001b[1;32m     12\u001b[0m         \u001b[0;32mfor\u001b[0m \u001b[0ma_coin\u001b[0m \u001b[0;32min\u001b[0m \u001b[0;34m[\u001b[0m\u001b[0mfitting_coin\u001b[0m \u001b[0;32mfor\u001b[0m \u001b[0mfitting_coin\u001b[0m \u001b[0;32min\u001b[0m \u001b[0mavailable_coins\u001b[0m \u001b[0;32mif\u001b[0m \u001b[0mfitting_coin\u001b[0m \u001b[0;34m<\u001b[0m \u001b[0mchange_to_give\u001b[0m\u001b[0;34m]\u001b[0m\u001b[0;34m:\u001b[0m\u001b[0;34m\u001b[0m\u001b[0;34m\u001b[0m\u001b[0m\n\u001b[0;32m---> 13\u001b[0;31m             \u001b[0mcoins_needed\u001b[0m \u001b[0;34m=\u001b[0m \u001b[0;34m[\u001b[0m\u001b[0ma_coin\u001b[0m\u001b[0;34m]\u001b[0m \u001b[0;34m+\u001b[0m \u001b[0mget_change_complete_search\u001b[0m\u001b[0;34m(\u001b[0m\u001b[0mavailable_coins\u001b[0m\u001b[0;34m,\u001b[0m \u001b[0mchange_to_give\u001b[0m \u001b[0;34m-\u001b[0m \u001b[0ma_coin\u001b[0m\u001b[0;34m)\u001b[0m\u001b[0;34m\u001b[0m\u001b[0;34m\u001b[0m\u001b[0m\n\u001b[0m\u001b[1;32m     14\u001b[0m             \u001b[0mcoins_count\u001b[0m \u001b[0;34m=\u001b[0m \u001b[0mlen\u001b[0m\u001b[0;34m(\u001b[0m\u001b[0mcoins_needed\u001b[0m\u001b[0;34m)\u001b[0m\u001b[0;34m\u001b[0m\u001b[0;34m\u001b[0m\u001b[0m\n\u001b[1;32m     15\u001b[0m             \u001b[0;32mif\u001b[0m \u001b[0;34m(\u001b[0m\u001b[0mcoins_count\u001b[0m \u001b[0;34m<\u001b[0m \u001b[0mminimal_number_of_coins\u001b[0m\u001b[0;34m)\u001b[0m\u001b[0;34m:\u001b[0m\u001b[0;34m\u001b[0m\u001b[0;34m\u001b[0m\u001b[0m\n",
      "\u001b[0;32m<ipython-input-113-f1c19d37498b>\u001b[0m in \u001b[0;36mget_change_complete_search\u001b[0;34m(available_coins, change_to_give)\u001b[0m\n\u001b[1;32m     11\u001b[0m \u001b[0;34m\u001b[0m\u001b[0m\n\u001b[1;32m     12\u001b[0m         \u001b[0;32mfor\u001b[0m \u001b[0ma_coin\u001b[0m \u001b[0;32min\u001b[0m \u001b[0;34m[\u001b[0m\u001b[0mfitting_coin\u001b[0m \u001b[0;32mfor\u001b[0m \u001b[0mfitting_coin\u001b[0m \u001b[0;32min\u001b[0m \u001b[0mavailable_coins\u001b[0m \u001b[0;32mif\u001b[0m \u001b[0mfitting_coin\u001b[0m \u001b[0;34m<\u001b[0m \u001b[0mchange_to_give\u001b[0m\u001b[0;34m]\u001b[0m\u001b[0;34m:\u001b[0m\u001b[0;34m\u001b[0m\u001b[0;34m\u001b[0m\u001b[0m\n\u001b[0;32m---> 13\u001b[0;31m             \u001b[0mcoins_needed\u001b[0m \u001b[0;34m=\u001b[0m \u001b[0;34m[\u001b[0m\u001b[0ma_coin\u001b[0m\u001b[0;34m]\u001b[0m \u001b[0;34m+\u001b[0m \u001b[0mget_change_complete_search\u001b[0m\u001b[0;34m(\u001b[0m\u001b[0mavailable_coins\u001b[0m\u001b[0;34m,\u001b[0m \u001b[0mchange_to_give\u001b[0m \u001b[0;34m-\u001b[0m \u001b[0ma_coin\u001b[0m\u001b[0;34m)\u001b[0m\u001b[0;34m\u001b[0m\u001b[0;34m\u001b[0m\u001b[0m\n\u001b[0m\u001b[1;32m     14\u001b[0m             \u001b[0mcoins_count\u001b[0m \u001b[0;34m=\u001b[0m \u001b[0mlen\u001b[0m\u001b[0;34m(\u001b[0m\u001b[0mcoins_needed\u001b[0m\u001b[0;34m)\u001b[0m\u001b[0;34m\u001b[0m\u001b[0;34m\u001b[0m\u001b[0m\n\u001b[1;32m     15\u001b[0m             \u001b[0;32mif\u001b[0m \u001b[0;34m(\u001b[0m\u001b[0mcoins_count\u001b[0m \u001b[0;34m<\u001b[0m \u001b[0mminimal_number_of_coins\u001b[0m\u001b[0;34m)\u001b[0m\u001b[0;34m:\u001b[0m\u001b[0;34m\u001b[0m\u001b[0;34m\u001b[0m\u001b[0m\n",
      "\u001b[0;32m<ipython-input-113-f1c19d37498b>\u001b[0m in \u001b[0;36mget_change_complete_search\u001b[0;34m(available_coins, change_to_give)\u001b[0m\n\u001b[1;32m     11\u001b[0m \u001b[0;34m\u001b[0m\u001b[0m\n\u001b[1;32m     12\u001b[0m         \u001b[0;32mfor\u001b[0m \u001b[0ma_coin\u001b[0m \u001b[0;32min\u001b[0m \u001b[0;34m[\u001b[0m\u001b[0mfitting_coin\u001b[0m \u001b[0;32mfor\u001b[0m \u001b[0mfitting_coin\u001b[0m \u001b[0;32min\u001b[0m \u001b[0mavailable_coins\u001b[0m \u001b[0;32mif\u001b[0m \u001b[0mfitting_coin\u001b[0m \u001b[0;34m<\u001b[0m \u001b[0mchange_to_give\u001b[0m\u001b[0;34m]\u001b[0m\u001b[0;34m:\u001b[0m\u001b[0;34m\u001b[0m\u001b[0;34m\u001b[0m\u001b[0m\n\u001b[0;32m---> 13\u001b[0;31m             \u001b[0mcoins_needed\u001b[0m \u001b[0;34m=\u001b[0m \u001b[0;34m[\u001b[0m\u001b[0ma_coin\u001b[0m\u001b[0;34m]\u001b[0m \u001b[0;34m+\u001b[0m \u001b[0mget_change_complete_search\u001b[0m\u001b[0;34m(\u001b[0m\u001b[0mavailable_coins\u001b[0m\u001b[0;34m,\u001b[0m \u001b[0mchange_to_give\u001b[0m \u001b[0;34m-\u001b[0m \u001b[0ma_coin\u001b[0m\u001b[0;34m)\u001b[0m\u001b[0;34m\u001b[0m\u001b[0;34m\u001b[0m\u001b[0m\n\u001b[0m\u001b[1;32m     14\u001b[0m             \u001b[0mcoins_count\u001b[0m \u001b[0;34m=\u001b[0m \u001b[0mlen\u001b[0m\u001b[0;34m(\u001b[0m\u001b[0mcoins_needed\u001b[0m\u001b[0;34m)\u001b[0m\u001b[0;34m\u001b[0m\u001b[0;34m\u001b[0m\u001b[0m\n\u001b[1;32m     15\u001b[0m             \u001b[0;32mif\u001b[0m \u001b[0;34m(\u001b[0m\u001b[0mcoins_count\u001b[0m \u001b[0;34m<\u001b[0m \u001b[0mminimal_number_of_coins\u001b[0m\u001b[0;34m)\u001b[0m\u001b[0;34m:\u001b[0m\u001b[0;34m\u001b[0m\u001b[0;34m\u001b[0m\u001b[0m\n",
      "\u001b[0;32m<ipython-input-113-f1c19d37498b>\u001b[0m in \u001b[0;36mget_change_complete_search\u001b[0;34m(available_coins, change_to_give)\u001b[0m\n\u001b[1;32m     11\u001b[0m \u001b[0;34m\u001b[0m\u001b[0m\n\u001b[1;32m     12\u001b[0m         \u001b[0;32mfor\u001b[0m \u001b[0ma_coin\u001b[0m \u001b[0;32min\u001b[0m \u001b[0;34m[\u001b[0m\u001b[0mfitting_coin\u001b[0m \u001b[0;32mfor\u001b[0m \u001b[0mfitting_coin\u001b[0m \u001b[0;32min\u001b[0m \u001b[0mavailable_coins\u001b[0m \u001b[0;32mif\u001b[0m \u001b[0mfitting_coin\u001b[0m \u001b[0;34m<\u001b[0m \u001b[0mchange_to_give\u001b[0m\u001b[0;34m]\u001b[0m\u001b[0;34m:\u001b[0m\u001b[0;34m\u001b[0m\u001b[0;34m\u001b[0m\u001b[0m\n\u001b[0;32m---> 13\u001b[0;31m             \u001b[0mcoins_needed\u001b[0m \u001b[0;34m=\u001b[0m \u001b[0;34m[\u001b[0m\u001b[0ma_coin\u001b[0m\u001b[0;34m]\u001b[0m \u001b[0;34m+\u001b[0m \u001b[0mget_change_complete_search\u001b[0m\u001b[0;34m(\u001b[0m\u001b[0mavailable_coins\u001b[0m\u001b[0;34m,\u001b[0m \u001b[0mchange_to_give\u001b[0m \u001b[0;34m-\u001b[0m \u001b[0ma_coin\u001b[0m\u001b[0;34m)\u001b[0m\u001b[0;34m\u001b[0m\u001b[0;34m\u001b[0m\u001b[0m\n\u001b[0m\u001b[1;32m     14\u001b[0m             \u001b[0mcoins_count\u001b[0m \u001b[0;34m=\u001b[0m \u001b[0mlen\u001b[0m\u001b[0;34m(\u001b[0m\u001b[0mcoins_needed\u001b[0m\u001b[0;34m)\u001b[0m\u001b[0;34m\u001b[0m\u001b[0;34m\u001b[0m\u001b[0m\n\u001b[1;32m     15\u001b[0m             \u001b[0;32mif\u001b[0m \u001b[0;34m(\u001b[0m\u001b[0mcoins_count\u001b[0m \u001b[0;34m<\u001b[0m \u001b[0mminimal_number_of_coins\u001b[0m\u001b[0;34m)\u001b[0m\u001b[0;34m:\u001b[0m\u001b[0;34m\u001b[0m\u001b[0;34m\u001b[0m\u001b[0m\n",
      "\u001b[0;32m<ipython-input-113-f1c19d37498b>\u001b[0m in \u001b[0;36mget_change_complete_search\u001b[0;34m(available_coins, change_to_give)\u001b[0m\n\u001b[1;32m     11\u001b[0m \u001b[0;34m\u001b[0m\u001b[0m\n\u001b[1;32m     12\u001b[0m         \u001b[0;32mfor\u001b[0m \u001b[0ma_coin\u001b[0m \u001b[0;32min\u001b[0m \u001b[0;34m[\u001b[0m\u001b[0mfitting_coin\u001b[0m \u001b[0;32mfor\u001b[0m \u001b[0mfitting_coin\u001b[0m \u001b[0;32min\u001b[0m \u001b[0mavailable_coins\u001b[0m \u001b[0;32mif\u001b[0m \u001b[0mfitting_coin\u001b[0m \u001b[0;34m<\u001b[0m \u001b[0mchange_to_give\u001b[0m\u001b[0;34m]\u001b[0m\u001b[0;34m:\u001b[0m\u001b[0;34m\u001b[0m\u001b[0;34m\u001b[0m\u001b[0m\n\u001b[0;32m---> 13\u001b[0;31m             \u001b[0mcoins_needed\u001b[0m \u001b[0;34m=\u001b[0m \u001b[0;34m[\u001b[0m\u001b[0ma_coin\u001b[0m\u001b[0;34m]\u001b[0m \u001b[0;34m+\u001b[0m \u001b[0mget_change_complete_search\u001b[0m\u001b[0;34m(\u001b[0m\u001b[0mavailable_coins\u001b[0m\u001b[0;34m,\u001b[0m \u001b[0mchange_to_give\u001b[0m \u001b[0;34m-\u001b[0m \u001b[0ma_coin\u001b[0m\u001b[0;34m)\u001b[0m\u001b[0;34m\u001b[0m\u001b[0;34m\u001b[0m\u001b[0m\n\u001b[0m\u001b[1;32m     14\u001b[0m             \u001b[0mcoins_count\u001b[0m \u001b[0;34m=\u001b[0m \u001b[0mlen\u001b[0m\u001b[0;34m(\u001b[0m\u001b[0mcoins_needed\u001b[0m\u001b[0;34m)\u001b[0m\u001b[0;34m\u001b[0m\u001b[0;34m\u001b[0m\u001b[0m\n\u001b[1;32m     15\u001b[0m             \u001b[0;32mif\u001b[0m \u001b[0;34m(\u001b[0m\u001b[0mcoins_count\u001b[0m \u001b[0;34m<\u001b[0m \u001b[0mminimal_number_of_coins\u001b[0m\u001b[0;34m)\u001b[0m\u001b[0;34m:\u001b[0m\u001b[0;34m\u001b[0m\u001b[0;34m\u001b[0m\u001b[0m\n",
      "\u001b[0;32m<ipython-input-113-f1c19d37498b>\u001b[0m in \u001b[0;36mget_change_complete_search\u001b[0;34m(available_coins, change_to_give)\u001b[0m\n\u001b[1;32m     11\u001b[0m \u001b[0;34m\u001b[0m\u001b[0m\n\u001b[1;32m     12\u001b[0m         \u001b[0;32mfor\u001b[0m \u001b[0ma_coin\u001b[0m \u001b[0;32min\u001b[0m \u001b[0;34m[\u001b[0m\u001b[0mfitting_coin\u001b[0m \u001b[0;32mfor\u001b[0m \u001b[0mfitting_coin\u001b[0m \u001b[0;32min\u001b[0m \u001b[0mavailable_coins\u001b[0m \u001b[0;32mif\u001b[0m \u001b[0mfitting_coin\u001b[0m \u001b[0;34m<\u001b[0m \u001b[0mchange_to_give\u001b[0m\u001b[0;34m]\u001b[0m\u001b[0;34m:\u001b[0m\u001b[0;34m\u001b[0m\u001b[0;34m\u001b[0m\u001b[0m\n\u001b[0;32m---> 13\u001b[0;31m             \u001b[0mcoins_needed\u001b[0m \u001b[0;34m=\u001b[0m \u001b[0;34m[\u001b[0m\u001b[0ma_coin\u001b[0m\u001b[0;34m]\u001b[0m \u001b[0;34m+\u001b[0m \u001b[0mget_change_complete_search\u001b[0m\u001b[0;34m(\u001b[0m\u001b[0mavailable_coins\u001b[0m\u001b[0;34m,\u001b[0m \u001b[0mchange_to_give\u001b[0m \u001b[0;34m-\u001b[0m \u001b[0ma_coin\u001b[0m\u001b[0;34m)\u001b[0m\u001b[0;34m\u001b[0m\u001b[0;34m\u001b[0m\u001b[0m\n\u001b[0m\u001b[1;32m     14\u001b[0m             \u001b[0mcoins_count\u001b[0m \u001b[0;34m=\u001b[0m \u001b[0mlen\u001b[0m\u001b[0;34m(\u001b[0m\u001b[0mcoins_needed\u001b[0m\u001b[0;34m)\u001b[0m\u001b[0;34m\u001b[0m\u001b[0;34m\u001b[0m\u001b[0m\n\u001b[1;32m     15\u001b[0m             \u001b[0;32mif\u001b[0m \u001b[0;34m(\u001b[0m\u001b[0mcoins_count\u001b[0m \u001b[0;34m<\u001b[0m \u001b[0mminimal_number_of_coins\u001b[0m\u001b[0;34m)\u001b[0m\u001b[0;34m:\u001b[0m\u001b[0;34m\u001b[0m\u001b[0;34m\u001b[0m\u001b[0m\n",
      "\u001b[0;32m<ipython-input-113-f1c19d37498b>\u001b[0m in \u001b[0;36mget_change_complete_search\u001b[0;34m(available_coins, change_to_give)\u001b[0m\n\u001b[1;32m     11\u001b[0m \u001b[0;34m\u001b[0m\u001b[0m\n\u001b[1;32m     12\u001b[0m         \u001b[0;32mfor\u001b[0m \u001b[0ma_coin\u001b[0m \u001b[0;32min\u001b[0m \u001b[0;34m[\u001b[0m\u001b[0mfitting_coin\u001b[0m \u001b[0;32mfor\u001b[0m \u001b[0mfitting_coin\u001b[0m \u001b[0;32min\u001b[0m \u001b[0mavailable_coins\u001b[0m \u001b[0;32mif\u001b[0m \u001b[0mfitting_coin\u001b[0m \u001b[0;34m<\u001b[0m \u001b[0mchange_to_give\u001b[0m\u001b[0;34m]\u001b[0m\u001b[0;34m:\u001b[0m\u001b[0;34m\u001b[0m\u001b[0;34m\u001b[0m\u001b[0m\n\u001b[0;32m---> 13\u001b[0;31m             \u001b[0mcoins_needed\u001b[0m \u001b[0;34m=\u001b[0m \u001b[0;34m[\u001b[0m\u001b[0ma_coin\u001b[0m\u001b[0;34m]\u001b[0m \u001b[0;34m+\u001b[0m \u001b[0mget_change_complete_search\u001b[0m\u001b[0;34m(\u001b[0m\u001b[0mavailable_coins\u001b[0m\u001b[0;34m,\u001b[0m \u001b[0mchange_to_give\u001b[0m \u001b[0;34m-\u001b[0m \u001b[0ma_coin\u001b[0m\u001b[0;34m)\u001b[0m\u001b[0;34m\u001b[0m\u001b[0;34m\u001b[0m\u001b[0m\n\u001b[0m\u001b[1;32m     14\u001b[0m             \u001b[0mcoins_count\u001b[0m \u001b[0;34m=\u001b[0m \u001b[0mlen\u001b[0m\u001b[0;34m(\u001b[0m\u001b[0mcoins_needed\u001b[0m\u001b[0;34m)\u001b[0m\u001b[0;34m\u001b[0m\u001b[0;34m\u001b[0m\u001b[0m\n\u001b[1;32m     15\u001b[0m             \u001b[0;32mif\u001b[0m \u001b[0;34m(\u001b[0m\u001b[0mcoins_count\u001b[0m \u001b[0;34m<\u001b[0m \u001b[0mminimal_number_of_coins\u001b[0m\u001b[0;34m)\u001b[0m\u001b[0;34m:\u001b[0m\u001b[0;34m\u001b[0m\u001b[0;34m\u001b[0m\u001b[0m\n",
      "\u001b[0;32m<ipython-input-113-f1c19d37498b>\u001b[0m in \u001b[0;36mget_change_complete_search\u001b[0;34m(available_coins, change_to_give)\u001b[0m\n\u001b[1;32m     11\u001b[0m \u001b[0;34m\u001b[0m\u001b[0m\n\u001b[1;32m     12\u001b[0m         \u001b[0;32mfor\u001b[0m \u001b[0ma_coin\u001b[0m \u001b[0;32min\u001b[0m \u001b[0;34m[\u001b[0m\u001b[0mfitting_coin\u001b[0m \u001b[0;32mfor\u001b[0m \u001b[0mfitting_coin\u001b[0m \u001b[0;32min\u001b[0m \u001b[0mavailable_coins\u001b[0m \u001b[0;32mif\u001b[0m \u001b[0mfitting_coin\u001b[0m \u001b[0;34m<\u001b[0m \u001b[0mchange_to_give\u001b[0m\u001b[0;34m]\u001b[0m\u001b[0;34m:\u001b[0m\u001b[0;34m\u001b[0m\u001b[0;34m\u001b[0m\u001b[0m\n\u001b[0;32m---> 13\u001b[0;31m             \u001b[0mcoins_needed\u001b[0m \u001b[0;34m=\u001b[0m \u001b[0;34m[\u001b[0m\u001b[0ma_coin\u001b[0m\u001b[0;34m]\u001b[0m \u001b[0;34m+\u001b[0m \u001b[0mget_change_complete_search\u001b[0m\u001b[0;34m(\u001b[0m\u001b[0mavailable_coins\u001b[0m\u001b[0;34m,\u001b[0m \u001b[0mchange_to_give\u001b[0m \u001b[0;34m-\u001b[0m \u001b[0ma_coin\u001b[0m\u001b[0;34m)\u001b[0m\u001b[0;34m\u001b[0m\u001b[0;34m\u001b[0m\u001b[0m\n\u001b[0m\u001b[1;32m     14\u001b[0m             \u001b[0mcoins_count\u001b[0m \u001b[0;34m=\u001b[0m \u001b[0mlen\u001b[0m\u001b[0;34m(\u001b[0m\u001b[0mcoins_needed\u001b[0m\u001b[0;34m)\u001b[0m\u001b[0;34m\u001b[0m\u001b[0;34m\u001b[0m\u001b[0m\n\u001b[1;32m     15\u001b[0m             \u001b[0;32mif\u001b[0m \u001b[0;34m(\u001b[0m\u001b[0mcoins_count\u001b[0m \u001b[0;34m<\u001b[0m \u001b[0mminimal_number_of_coins\u001b[0m\u001b[0;34m)\u001b[0m\u001b[0;34m:\u001b[0m\u001b[0;34m\u001b[0m\u001b[0;34m\u001b[0m\u001b[0m\n",
      "\u001b[0;32m<ipython-input-113-f1c19d37498b>\u001b[0m in \u001b[0;36mget_change_complete_search\u001b[0;34m(available_coins, change_to_give)\u001b[0m\n\u001b[1;32m     11\u001b[0m \u001b[0;34m\u001b[0m\u001b[0m\n\u001b[1;32m     12\u001b[0m         \u001b[0;32mfor\u001b[0m \u001b[0ma_coin\u001b[0m \u001b[0;32min\u001b[0m \u001b[0;34m[\u001b[0m\u001b[0mfitting_coin\u001b[0m \u001b[0;32mfor\u001b[0m \u001b[0mfitting_coin\u001b[0m \u001b[0;32min\u001b[0m \u001b[0mavailable_coins\u001b[0m \u001b[0;32mif\u001b[0m \u001b[0mfitting_coin\u001b[0m \u001b[0;34m<\u001b[0m \u001b[0mchange_to_give\u001b[0m\u001b[0;34m]\u001b[0m\u001b[0;34m:\u001b[0m\u001b[0;34m\u001b[0m\u001b[0;34m\u001b[0m\u001b[0m\n\u001b[0;32m---> 13\u001b[0;31m             \u001b[0mcoins_needed\u001b[0m \u001b[0;34m=\u001b[0m \u001b[0;34m[\u001b[0m\u001b[0ma_coin\u001b[0m\u001b[0;34m]\u001b[0m \u001b[0;34m+\u001b[0m \u001b[0mget_change_complete_search\u001b[0m\u001b[0;34m(\u001b[0m\u001b[0mavailable_coins\u001b[0m\u001b[0;34m,\u001b[0m \u001b[0mchange_to_give\u001b[0m \u001b[0;34m-\u001b[0m \u001b[0ma_coin\u001b[0m\u001b[0;34m)\u001b[0m\u001b[0;34m\u001b[0m\u001b[0;34m\u001b[0m\u001b[0m\n\u001b[0m\u001b[1;32m     14\u001b[0m             \u001b[0mcoins_count\u001b[0m \u001b[0;34m=\u001b[0m \u001b[0mlen\u001b[0m\u001b[0;34m(\u001b[0m\u001b[0mcoins_needed\u001b[0m\u001b[0;34m)\u001b[0m\u001b[0;34m\u001b[0m\u001b[0;34m\u001b[0m\u001b[0m\n\u001b[1;32m     15\u001b[0m             \u001b[0;32mif\u001b[0m \u001b[0;34m(\u001b[0m\u001b[0mcoins_count\u001b[0m \u001b[0;34m<\u001b[0m \u001b[0mminimal_number_of_coins\u001b[0m\u001b[0;34m)\u001b[0m\u001b[0;34m:\u001b[0m\u001b[0;34m\u001b[0m\u001b[0;34m\u001b[0m\u001b[0m\n",
      "\u001b[0;32m<ipython-input-113-f1c19d37498b>\u001b[0m in \u001b[0;36mget_change_complete_search\u001b[0;34m(available_coins, change_to_give)\u001b[0m\n\u001b[1;32m     11\u001b[0m \u001b[0;34m\u001b[0m\u001b[0m\n\u001b[1;32m     12\u001b[0m         \u001b[0;32mfor\u001b[0m \u001b[0ma_coin\u001b[0m \u001b[0;32min\u001b[0m \u001b[0;34m[\u001b[0m\u001b[0mfitting_coin\u001b[0m \u001b[0;32mfor\u001b[0m \u001b[0mfitting_coin\u001b[0m \u001b[0;32min\u001b[0m \u001b[0mavailable_coins\u001b[0m \u001b[0;32mif\u001b[0m \u001b[0mfitting_coin\u001b[0m \u001b[0;34m<\u001b[0m \u001b[0mchange_to_give\u001b[0m\u001b[0;34m]\u001b[0m\u001b[0;34m:\u001b[0m\u001b[0;34m\u001b[0m\u001b[0;34m\u001b[0m\u001b[0m\n\u001b[0;32m---> 13\u001b[0;31m             \u001b[0mcoins_needed\u001b[0m \u001b[0;34m=\u001b[0m \u001b[0;34m[\u001b[0m\u001b[0ma_coin\u001b[0m\u001b[0;34m]\u001b[0m \u001b[0;34m+\u001b[0m \u001b[0mget_change_complete_search\u001b[0m\u001b[0;34m(\u001b[0m\u001b[0mavailable_coins\u001b[0m\u001b[0;34m,\u001b[0m \u001b[0mchange_to_give\u001b[0m \u001b[0;34m-\u001b[0m \u001b[0ma_coin\u001b[0m\u001b[0;34m)\u001b[0m\u001b[0;34m\u001b[0m\u001b[0;34m\u001b[0m\u001b[0m\n\u001b[0m\u001b[1;32m     14\u001b[0m             \u001b[0mcoins_count\u001b[0m \u001b[0;34m=\u001b[0m \u001b[0mlen\u001b[0m\u001b[0;34m(\u001b[0m\u001b[0mcoins_needed\u001b[0m\u001b[0;34m)\u001b[0m\u001b[0;34m\u001b[0m\u001b[0;34m\u001b[0m\u001b[0m\n\u001b[1;32m     15\u001b[0m             \u001b[0;32mif\u001b[0m \u001b[0;34m(\u001b[0m\u001b[0mcoins_count\u001b[0m \u001b[0;34m<\u001b[0m \u001b[0mminimal_number_of_coins\u001b[0m\u001b[0;34m)\u001b[0m\u001b[0;34m:\u001b[0m\u001b[0;34m\u001b[0m\u001b[0;34m\u001b[0m\u001b[0m\n",
      "\u001b[0;32m<ipython-input-113-f1c19d37498b>\u001b[0m in \u001b[0;36mget_change_complete_search\u001b[0;34m(available_coins, change_to_give)\u001b[0m\n\u001b[1;32m     11\u001b[0m \u001b[0;34m\u001b[0m\u001b[0m\n\u001b[1;32m     12\u001b[0m         \u001b[0;32mfor\u001b[0m \u001b[0ma_coin\u001b[0m \u001b[0;32min\u001b[0m \u001b[0;34m[\u001b[0m\u001b[0mfitting_coin\u001b[0m \u001b[0;32mfor\u001b[0m \u001b[0mfitting_coin\u001b[0m \u001b[0;32min\u001b[0m \u001b[0mavailable_coins\u001b[0m \u001b[0;32mif\u001b[0m \u001b[0mfitting_coin\u001b[0m \u001b[0;34m<\u001b[0m \u001b[0mchange_to_give\u001b[0m\u001b[0;34m]\u001b[0m\u001b[0;34m:\u001b[0m\u001b[0;34m\u001b[0m\u001b[0;34m\u001b[0m\u001b[0m\n\u001b[0;32m---> 13\u001b[0;31m             \u001b[0mcoins_needed\u001b[0m \u001b[0;34m=\u001b[0m \u001b[0;34m[\u001b[0m\u001b[0ma_coin\u001b[0m\u001b[0;34m]\u001b[0m \u001b[0;34m+\u001b[0m \u001b[0mget_change_complete_search\u001b[0m\u001b[0;34m(\u001b[0m\u001b[0mavailable_coins\u001b[0m\u001b[0;34m,\u001b[0m \u001b[0mchange_to_give\u001b[0m \u001b[0;34m-\u001b[0m \u001b[0ma_coin\u001b[0m\u001b[0;34m)\u001b[0m\u001b[0;34m\u001b[0m\u001b[0;34m\u001b[0m\u001b[0m\n\u001b[0m\u001b[1;32m     14\u001b[0m             \u001b[0mcoins_count\u001b[0m \u001b[0;34m=\u001b[0m \u001b[0mlen\u001b[0m\u001b[0;34m(\u001b[0m\u001b[0mcoins_needed\u001b[0m\u001b[0;34m)\u001b[0m\u001b[0;34m\u001b[0m\u001b[0;34m\u001b[0m\u001b[0m\n\u001b[1;32m     15\u001b[0m             \u001b[0;32mif\u001b[0m \u001b[0;34m(\u001b[0m\u001b[0mcoins_count\u001b[0m \u001b[0;34m<\u001b[0m \u001b[0mminimal_number_of_coins\u001b[0m\u001b[0;34m)\u001b[0m\u001b[0;34m:\u001b[0m\u001b[0;34m\u001b[0m\u001b[0;34m\u001b[0m\u001b[0m\n",
      "\u001b[0;32m<ipython-input-113-f1c19d37498b>\u001b[0m in \u001b[0;36mget_change_complete_search\u001b[0;34m(available_coins, change_to_give)\u001b[0m\n\u001b[1;32m     11\u001b[0m \u001b[0;34m\u001b[0m\u001b[0m\n\u001b[1;32m     12\u001b[0m         \u001b[0;32mfor\u001b[0m \u001b[0ma_coin\u001b[0m \u001b[0;32min\u001b[0m \u001b[0;34m[\u001b[0m\u001b[0mfitting_coin\u001b[0m \u001b[0;32mfor\u001b[0m \u001b[0mfitting_coin\u001b[0m \u001b[0;32min\u001b[0m \u001b[0mavailable_coins\u001b[0m \u001b[0;32mif\u001b[0m \u001b[0mfitting_coin\u001b[0m \u001b[0;34m<\u001b[0m \u001b[0mchange_to_give\u001b[0m\u001b[0;34m]\u001b[0m\u001b[0;34m:\u001b[0m\u001b[0;34m\u001b[0m\u001b[0;34m\u001b[0m\u001b[0m\n\u001b[0;32m---> 13\u001b[0;31m             \u001b[0mcoins_needed\u001b[0m \u001b[0;34m=\u001b[0m \u001b[0;34m[\u001b[0m\u001b[0ma_coin\u001b[0m\u001b[0;34m]\u001b[0m \u001b[0;34m+\u001b[0m \u001b[0mget_change_complete_search\u001b[0m\u001b[0;34m(\u001b[0m\u001b[0mavailable_coins\u001b[0m\u001b[0;34m,\u001b[0m \u001b[0mchange_to_give\u001b[0m \u001b[0;34m-\u001b[0m \u001b[0ma_coin\u001b[0m\u001b[0;34m)\u001b[0m\u001b[0;34m\u001b[0m\u001b[0;34m\u001b[0m\u001b[0m\n\u001b[0m\u001b[1;32m     14\u001b[0m             \u001b[0mcoins_count\u001b[0m \u001b[0;34m=\u001b[0m \u001b[0mlen\u001b[0m\u001b[0;34m(\u001b[0m\u001b[0mcoins_needed\u001b[0m\u001b[0;34m)\u001b[0m\u001b[0;34m\u001b[0m\u001b[0;34m\u001b[0m\u001b[0m\n\u001b[1;32m     15\u001b[0m             \u001b[0;32mif\u001b[0m \u001b[0;34m(\u001b[0m\u001b[0mcoins_count\u001b[0m \u001b[0;34m<\u001b[0m \u001b[0mminimal_number_of_coins\u001b[0m\u001b[0;34m)\u001b[0m\u001b[0;34m:\u001b[0m\u001b[0;34m\u001b[0m\u001b[0;34m\u001b[0m\u001b[0m\n",
      "\u001b[0;32m<ipython-input-113-f1c19d37498b>\u001b[0m in \u001b[0;36mget_change_complete_search\u001b[0;34m(available_coins, change_to_give)\u001b[0m\n\u001b[1;32m     11\u001b[0m \u001b[0;34m\u001b[0m\u001b[0m\n\u001b[1;32m     12\u001b[0m         \u001b[0;32mfor\u001b[0m \u001b[0ma_coin\u001b[0m \u001b[0;32min\u001b[0m \u001b[0;34m[\u001b[0m\u001b[0mfitting_coin\u001b[0m \u001b[0;32mfor\u001b[0m \u001b[0mfitting_coin\u001b[0m \u001b[0;32min\u001b[0m \u001b[0mavailable_coins\u001b[0m \u001b[0;32mif\u001b[0m \u001b[0mfitting_coin\u001b[0m \u001b[0;34m<\u001b[0m \u001b[0mchange_to_give\u001b[0m\u001b[0;34m]\u001b[0m\u001b[0;34m:\u001b[0m\u001b[0;34m\u001b[0m\u001b[0;34m\u001b[0m\u001b[0m\n\u001b[0;32m---> 13\u001b[0;31m             \u001b[0mcoins_needed\u001b[0m \u001b[0;34m=\u001b[0m \u001b[0;34m[\u001b[0m\u001b[0ma_coin\u001b[0m\u001b[0;34m]\u001b[0m \u001b[0;34m+\u001b[0m \u001b[0mget_change_complete_search\u001b[0m\u001b[0;34m(\u001b[0m\u001b[0mavailable_coins\u001b[0m\u001b[0;34m,\u001b[0m \u001b[0mchange_to_give\u001b[0m \u001b[0;34m-\u001b[0m \u001b[0ma_coin\u001b[0m\u001b[0;34m)\u001b[0m\u001b[0;34m\u001b[0m\u001b[0;34m\u001b[0m\u001b[0m\n\u001b[0m\u001b[1;32m     14\u001b[0m             \u001b[0mcoins_count\u001b[0m \u001b[0;34m=\u001b[0m \u001b[0mlen\u001b[0m\u001b[0;34m(\u001b[0m\u001b[0mcoins_needed\u001b[0m\u001b[0;34m)\u001b[0m\u001b[0;34m\u001b[0m\u001b[0;34m\u001b[0m\u001b[0m\n\u001b[1;32m     15\u001b[0m             \u001b[0;32mif\u001b[0m \u001b[0;34m(\u001b[0m\u001b[0mcoins_count\u001b[0m \u001b[0;34m<\u001b[0m \u001b[0mminimal_number_of_coins\u001b[0m\u001b[0;34m)\u001b[0m\u001b[0;34m:\u001b[0m\u001b[0;34m\u001b[0m\u001b[0;34m\u001b[0m\u001b[0m\n",
      "\u001b[0;32m<ipython-input-113-f1c19d37498b>\u001b[0m in \u001b[0;36mget_change_complete_search\u001b[0;34m(available_coins, change_to_give)\u001b[0m\n\u001b[1;32m     11\u001b[0m \u001b[0;34m\u001b[0m\u001b[0m\n\u001b[1;32m     12\u001b[0m         \u001b[0;32mfor\u001b[0m \u001b[0ma_coin\u001b[0m \u001b[0;32min\u001b[0m \u001b[0;34m[\u001b[0m\u001b[0mfitting_coin\u001b[0m \u001b[0;32mfor\u001b[0m \u001b[0mfitting_coin\u001b[0m \u001b[0;32min\u001b[0m \u001b[0mavailable_coins\u001b[0m \u001b[0;32mif\u001b[0m \u001b[0mfitting_coin\u001b[0m \u001b[0;34m<\u001b[0m \u001b[0mchange_to_give\u001b[0m\u001b[0;34m]\u001b[0m\u001b[0;34m:\u001b[0m\u001b[0;34m\u001b[0m\u001b[0;34m\u001b[0m\u001b[0m\n\u001b[0;32m---> 13\u001b[0;31m             \u001b[0mcoins_needed\u001b[0m \u001b[0;34m=\u001b[0m \u001b[0;34m[\u001b[0m\u001b[0ma_coin\u001b[0m\u001b[0;34m]\u001b[0m \u001b[0;34m+\u001b[0m \u001b[0mget_change_complete_search\u001b[0m\u001b[0;34m(\u001b[0m\u001b[0mavailable_coins\u001b[0m\u001b[0;34m,\u001b[0m \u001b[0mchange_to_give\u001b[0m \u001b[0;34m-\u001b[0m \u001b[0ma_coin\u001b[0m\u001b[0;34m)\u001b[0m\u001b[0;34m\u001b[0m\u001b[0;34m\u001b[0m\u001b[0m\n\u001b[0m\u001b[1;32m     14\u001b[0m             \u001b[0mcoins_count\u001b[0m \u001b[0;34m=\u001b[0m \u001b[0mlen\u001b[0m\u001b[0;34m(\u001b[0m\u001b[0mcoins_needed\u001b[0m\u001b[0;34m)\u001b[0m\u001b[0;34m\u001b[0m\u001b[0;34m\u001b[0m\u001b[0m\n\u001b[1;32m     15\u001b[0m             \u001b[0;32mif\u001b[0m \u001b[0;34m(\u001b[0m\u001b[0mcoins_count\u001b[0m \u001b[0;34m<\u001b[0m \u001b[0mminimal_number_of_coins\u001b[0m\u001b[0;34m)\u001b[0m\u001b[0;34m:\u001b[0m\u001b[0;34m\u001b[0m\u001b[0;34m\u001b[0m\u001b[0m\n",
      "\u001b[0;32m<ipython-input-113-f1c19d37498b>\u001b[0m in \u001b[0;36mget_change_complete_search\u001b[0;34m(available_coins, change_to_give)\u001b[0m\n\u001b[1;32m     11\u001b[0m \u001b[0;34m\u001b[0m\u001b[0m\n\u001b[1;32m     12\u001b[0m         \u001b[0;32mfor\u001b[0m \u001b[0ma_coin\u001b[0m \u001b[0;32min\u001b[0m \u001b[0;34m[\u001b[0m\u001b[0mfitting_coin\u001b[0m \u001b[0;32mfor\u001b[0m \u001b[0mfitting_coin\u001b[0m \u001b[0;32min\u001b[0m \u001b[0mavailable_coins\u001b[0m \u001b[0;32mif\u001b[0m \u001b[0mfitting_coin\u001b[0m \u001b[0;34m<\u001b[0m \u001b[0mchange_to_give\u001b[0m\u001b[0;34m]\u001b[0m\u001b[0;34m:\u001b[0m\u001b[0;34m\u001b[0m\u001b[0;34m\u001b[0m\u001b[0m\n\u001b[0;32m---> 13\u001b[0;31m             \u001b[0mcoins_needed\u001b[0m \u001b[0;34m=\u001b[0m \u001b[0;34m[\u001b[0m\u001b[0ma_coin\u001b[0m\u001b[0;34m]\u001b[0m \u001b[0;34m+\u001b[0m \u001b[0mget_change_complete_search\u001b[0m\u001b[0;34m(\u001b[0m\u001b[0mavailable_coins\u001b[0m\u001b[0;34m,\u001b[0m \u001b[0mchange_to_give\u001b[0m \u001b[0;34m-\u001b[0m \u001b[0ma_coin\u001b[0m\u001b[0;34m)\u001b[0m\u001b[0;34m\u001b[0m\u001b[0;34m\u001b[0m\u001b[0m\n\u001b[0m\u001b[1;32m     14\u001b[0m             \u001b[0mcoins_count\u001b[0m \u001b[0;34m=\u001b[0m \u001b[0mlen\u001b[0m\u001b[0;34m(\u001b[0m\u001b[0mcoins_needed\u001b[0m\u001b[0;34m)\u001b[0m\u001b[0;34m\u001b[0m\u001b[0;34m\u001b[0m\u001b[0m\n\u001b[1;32m     15\u001b[0m             \u001b[0;32mif\u001b[0m \u001b[0;34m(\u001b[0m\u001b[0mcoins_count\u001b[0m \u001b[0;34m<\u001b[0m \u001b[0mminimal_number_of_coins\u001b[0m\u001b[0;34m)\u001b[0m\u001b[0;34m:\u001b[0m\u001b[0;34m\u001b[0m\u001b[0;34m\u001b[0m\u001b[0m\n",
      "\u001b[0;32m<ipython-input-113-f1c19d37498b>\u001b[0m in \u001b[0;36mget_change_complete_search\u001b[0;34m(available_coins, change_to_give)\u001b[0m\n\u001b[1;32m     11\u001b[0m \u001b[0;34m\u001b[0m\u001b[0m\n\u001b[1;32m     12\u001b[0m         \u001b[0;32mfor\u001b[0m \u001b[0ma_coin\u001b[0m \u001b[0;32min\u001b[0m \u001b[0;34m[\u001b[0m\u001b[0mfitting_coin\u001b[0m \u001b[0;32mfor\u001b[0m \u001b[0mfitting_coin\u001b[0m \u001b[0;32min\u001b[0m \u001b[0mavailable_coins\u001b[0m \u001b[0;32mif\u001b[0m \u001b[0mfitting_coin\u001b[0m \u001b[0;34m<\u001b[0m \u001b[0mchange_to_give\u001b[0m\u001b[0;34m]\u001b[0m\u001b[0;34m:\u001b[0m\u001b[0;34m\u001b[0m\u001b[0;34m\u001b[0m\u001b[0m\n\u001b[0;32m---> 13\u001b[0;31m             \u001b[0mcoins_needed\u001b[0m \u001b[0;34m=\u001b[0m \u001b[0;34m[\u001b[0m\u001b[0ma_coin\u001b[0m\u001b[0;34m]\u001b[0m \u001b[0;34m+\u001b[0m \u001b[0mget_change_complete_search\u001b[0m\u001b[0;34m(\u001b[0m\u001b[0mavailable_coins\u001b[0m\u001b[0;34m,\u001b[0m \u001b[0mchange_to_give\u001b[0m \u001b[0;34m-\u001b[0m \u001b[0ma_coin\u001b[0m\u001b[0;34m)\u001b[0m\u001b[0;34m\u001b[0m\u001b[0;34m\u001b[0m\u001b[0m\n\u001b[0m\u001b[1;32m     14\u001b[0m             \u001b[0mcoins_count\u001b[0m \u001b[0;34m=\u001b[0m \u001b[0mlen\u001b[0m\u001b[0;34m(\u001b[0m\u001b[0mcoins_needed\u001b[0m\u001b[0;34m)\u001b[0m\u001b[0;34m\u001b[0m\u001b[0;34m\u001b[0m\u001b[0m\n\u001b[1;32m     15\u001b[0m             \u001b[0;32mif\u001b[0m \u001b[0;34m(\u001b[0m\u001b[0mcoins_count\u001b[0m \u001b[0;34m<\u001b[0m \u001b[0mminimal_number_of_coins\u001b[0m\u001b[0;34m)\u001b[0m\u001b[0;34m:\u001b[0m\u001b[0;34m\u001b[0m\u001b[0;34m\u001b[0m\u001b[0m\n",
      "\u001b[0;32m<ipython-input-113-f1c19d37498b>\u001b[0m in \u001b[0;36mget_change_complete_search\u001b[0;34m(available_coins, change_to_give)\u001b[0m\n\u001b[1;32m     11\u001b[0m \u001b[0;34m\u001b[0m\u001b[0m\n\u001b[1;32m     12\u001b[0m         \u001b[0;32mfor\u001b[0m \u001b[0ma_coin\u001b[0m \u001b[0;32min\u001b[0m \u001b[0;34m[\u001b[0m\u001b[0mfitting_coin\u001b[0m \u001b[0;32mfor\u001b[0m \u001b[0mfitting_coin\u001b[0m \u001b[0;32min\u001b[0m \u001b[0mavailable_coins\u001b[0m \u001b[0;32mif\u001b[0m \u001b[0mfitting_coin\u001b[0m \u001b[0;34m<\u001b[0m \u001b[0mchange_to_give\u001b[0m\u001b[0;34m]\u001b[0m\u001b[0;34m:\u001b[0m\u001b[0;34m\u001b[0m\u001b[0;34m\u001b[0m\u001b[0m\n\u001b[0;32m---> 13\u001b[0;31m             \u001b[0mcoins_needed\u001b[0m \u001b[0;34m=\u001b[0m \u001b[0;34m[\u001b[0m\u001b[0ma_coin\u001b[0m\u001b[0;34m]\u001b[0m \u001b[0;34m+\u001b[0m \u001b[0mget_change_complete_search\u001b[0m\u001b[0;34m(\u001b[0m\u001b[0mavailable_coins\u001b[0m\u001b[0;34m,\u001b[0m \u001b[0mchange_to_give\u001b[0m \u001b[0;34m-\u001b[0m \u001b[0ma_coin\u001b[0m\u001b[0;34m)\u001b[0m\u001b[0;34m\u001b[0m\u001b[0;34m\u001b[0m\u001b[0m\n\u001b[0m\u001b[1;32m     14\u001b[0m             \u001b[0mcoins_count\u001b[0m \u001b[0;34m=\u001b[0m \u001b[0mlen\u001b[0m\u001b[0;34m(\u001b[0m\u001b[0mcoins_needed\u001b[0m\u001b[0;34m)\u001b[0m\u001b[0;34m\u001b[0m\u001b[0;34m\u001b[0m\u001b[0m\n\u001b[1;32m     15\u001b[0m             \u001b[0;32mif\u001b[0m \u001b[0;34m(\u001b[0m\u001b[0mcoins_count\u001b[0m \u001b[0;34m<\u001b[0m \u001b[0mminimal_number_of_coins\u001b[0m\u001b[0;34m)\u001b[0m\u001b[0;34m:\u001b[0m\u001b[0;34m\u001b[0m\u001b[0;34m\u001b[0m\u001b[0m\n",
      "\u001b[0;32m<ipython-input-113-f1c19d37498b>\u001b[0m in \u001b[0;36mget_change_complete_search\u001b[0;34m(available_coins, change_to_give)\u001b[0m\n\u001b[1;32m     11\u001b[0m \u001b[0;34m\u001b[0m\u001b[0m\n\u001b[1;32m     12\u001b[0m         \u001b[0;32mfor\u001b[0m \u001b[0ma_coin\u001b[0m \u001b[0;32min\u001b[0m \u001b[0;34m[\u001b[0m\u001b[0mfitting_coin\u001b[0m \u001b[0;32mfor\u001b[0m \u001b[0mfitting_coin\u001b[0m \u001b[0;32min\u001b[0m \u001b[0mavailable_coins\u001b[0m \u001b[0;32mif\u001b[0m \u001b[0mfitting_coin\u001b[0m \u001b[0;34m<\u001b[0m \u001b[0mchange_to_give\u001b[0m\u001b[0;34m]\u001b[0m\u001b[0;34m:\u001b[0m\u001b[0;34m\u001b[0m\u001b[0;34m\u001b[0m\u001b[0m\n\u001b[0;32m---> 13\u001b[0;31m             \u001b[0mcoins_needed\u001b[0m \u001b[0;34m=\u001b[0m \u001b[0;34m[\u001b[0m\u001b[0ma_coin\u001b[0m\u001b[0;34m]\u001b[0m \u001b[0;34m+\u001b[0m \u001b[0mget_change_complete_search\u001b[0m\u001b[0;34m(\u001b[0m\u001b[0mavailable_coins\u001b[0m\u001b[0;34m,\u001b[0m \u001b[0mchange_to_give\u001b[0m \u001b[0;34m-\u001b[0m \u001b[0ma_coin\u001b[0m\u001b[0;34m)\u001b[0m\u001b[0;34m\u001b[0m\u001b[0;34m\u001b[0m\u001b[0m\n\u001b[0m\u001b[1;32m     14\u001b[0m             \u001b[0mcoins_count\u001b[0m \u001b[0;34m=\u001b[0m \u001b[0mlen\u001b[0m\u001b[0;34m(\u001b[0m\u001b[0mcoins_needed\u001b[0m\u001b[0;34m)\u001b[0m\u001b[0;34m\u001b[0m\u001b[0;34m\u001b[0m\u001b[0m\n\u001b[1;32m     15\u001b[0m             \u001b[0;32mif\u001b[0m \u001b[0;34m(\u001b[0m\u001b[0mcoins_count\u001b[0m \u001b[0;34m<\u001b[0m \u001b[0mminimal_number_of_coins\u001b[0m\u001b[0;34m)\u001b[0m\u001b[0;34m:\u001b[0m\u001b[0;34m\u001b[0m\u001b[0;34m\u001b[0m\u001b[0m\n",
      "\u001b[0;32m<ipython-input-113-f1c19d37498b>\u001b[0m in \u001b[0;36mget_change_complete_search\u001b[0;34m(available_coins, change_to_give)\u001b[0m\n\u001b[1;32m     11\u001b[0m \u001b[0;34m\u001b[0m\u001b[0m\n\u001b[1;32m     12\u001b[0m         \u001b[0;32mfor\u001b[0m \u001b[0ma_coin\u001b[0m \u001b[0;32min\u001b[0m \u001b[0;34m[\u001b[0m\u001b[0mfitting_coin\u001b[0m \u001b[0;32mfor\u001b[0m \u001b[0mfitting_coin\u001b[0m \u001b[0;32min\u001b[0m \u001b[0mavailable_coins\u001b[0m \u001b[0;32mif\u001b[0m \u001b[0mfitting_coin\u001b[0m \u001b[0;34m<\u001b[0m \u001b[0mchange_to_give\u001b[0m\u001b[0;34m]\u001b[0m\u001b[0;34m:\u001b[0m\u001b[0;34m\u001b[0m\u001b[0;34m\u001b[0m\u001b[0m\n\u001b[0;32m---> 13\u001b[0;31m             \u001b[0mcoins_needed\u001b[0m \u001b[0;34m=\u001b[0m \u001b[0;34m[\u001b[0m\u001b[0ma_coin\u001b[0m\u001b[0;34m]\u001b[0m \u001b[0;34m+\u001b[0m \u001b[0mget_change_complete_search\u001b[0m\u001b[0;34m(\u001b[0m\u001b[0mavailable_coins\u001b[0m\u001b[0;34m,\u001b[0m \u001b[0mchange_to_give\u001b[0m \u001b[0;34m-\u001b[0m \u001b[0ma_coin\u001b[0m\u001b[0;34m)\u001b[0m\u001b[0;34m\u001b[0m\u001b[0;34m\u001b[0m\u001b[0m\n\u001b[0m\u001b[1;32m     14\u001b[0m             \u001b[0mcoins_count\u001b[0m \u001b[0;34m=\u001b[0m \u001b[0mlen\u001b[0m\u001b[0;34m(\u001b[0m\u001b[0mcoins_needed\u001b[0m\u001b[0;34m)\u001b[0m\u001b[0;34m\u001b[0m\u001b[0;34m\u001b[0m\u001b[0m\n\u001b[1;32m     15\u001b[0m             \u001b[0;32mif\u001b[0m \u001b[0;34m(\u001b[0m\u001b[0mcoins_count\u001b[0m \u001b[0;34m<\u001b[0m \u001b[0mminimal_number_of_coins\u001b[0m\u001b[0;34m)\u001b[0m\u001b[0;34m:\u001b[0m\u001b[0;34m\u001b[0m\u001b[0;34m\u001b[0m\u001b[0m\n",
      "\u001b[0;32m<ipython-input-113-f1c19d37498b>\u001b[0m in \u001b[0;36mget_change_complete_search\u001b[0;34m(available_coins, change_to_give)\u001b[0m\n\u001b[1;32m     11\u001b[0m \u001b[0;34m\u001b[0m\u001b[0m\n\u001b[1;32m     12\u001b[0m         \u001b[0;32mfor\u001b[0m \u001b[0ma_coin\u001b[0m \u001b[0;32min\u001b[0m \u001b[0;34m[\u001b[0m\u001b[0mfitting_coin\u001b[0m \u001b[0;32mfor\u001b[0m \u001b[0mfitting_coin\u001b[0m \u001b[0;32min\u001b[0m \u001b[0mavailable_coins\u001b[0m \u001b[0;32mif\u001b[0m \u001b[0mfitting_coin\u001b[0m \u001b[0;34m<\u001b[0m \u001b[0mchange_to_give\u001b[0m\u001b[0;34m]\u001b[0m\u001b[0;34m:\u001b[0m\u001b[0;34m\u001b[0m\u001b[0;34m\u001b[0m\u001b[0m\n\u001b[0;32m---> 13\u001b[0;31m             \u001b[0mcoins_needed\u001b[0m \u001b[0;34m=\u001b[0m \u001b[0;34m[\u001b[0m\u001b[0ma_coin\u001b[0m\u001b[0;34m]\u001b[0m \u001b[0;34m+\u001b[0m \u001b[0mget_change_complete_search\u001b[0m\u001b[0;34m(\u001b[0m\u001b[0mavailable_coins\u001b[0m\u001b[0;34m,\u001b[0m \u001b[0mchange_to_give\u001b[0m \u001b[0;34m-\u001b[0m \u001b[0ma_coin\u001b[0m\u001b[0;34m)\u001b[0m\u001b[0;34m\u001b[0m\u001b[0;34m\u001b[0m\u001b[0m\n\u001b[0m\u001b[1;32m     14\u001b[0m             \u001b[0mcoins_count\u001b[0m \u001b[0;34m=\u001b[0m \u001b[0mlen\u001b[0m\u001b[0;34m(\u001b[0m\u001b[0mcoins_needed\u001b[0m\u001b[0;34m)\u001b[0m\u001b[0;34m\u001b[0m\u001b[0;34m\u001b[0m\u001b[0m\n\u001b[1;32m     15\u001b[0m             \u001b[0;32mif\u001b[0m \u001b[0;34m(\u001b[0m\u001b[0mcoins_count\u001b[0m \u001b[0;34m<\u001b[0m \u001b[0mminimal_number_of_coins\u001b[0m\u001b[0;34m)\u001b[0m\u001b[0;34m:\u001b[0m\u001b[0;34m\u001b[0m\u001b[0;34m\u001b[0m\u001b[0m\n",
      "\u001b[0;32m<ipython-input-113-f1c19d37498b>\u001b[0m in \u001b[0;36mget_change_complete_search\u001b[0;34m(available_coins, change_to_give)\u001b[0m\n\u001b[1;32m     11\u001b[0m \u001b[0;34m\u001b[0m\u001b[0m\n\u001b[1;32m     12\u001b[0m         \u001b[0;32mfor\u001b[0m \u001b[0ma_coin\u001b[0m \u001b[0;32min\u001b[0m \u001b[0;34m[\u001b[0m\u001b[0mfitting_coin\u001b[0m \u001b[0;32mfor\u001b[0m \u001b[0mfitting_coin\u001b[0m \u001b[0;32min\u001b[0m \u001b[0mavailable_coins\u001b[0m \u001b[0;32mif\u001b[0m \u001b[0mfitting_coin\u001b[0m \u001b[0;34m<\u001b[0m \u001b[0mchange_to_give\u001b[0m\u001b[0;34m]\u001b[0m\u001b[0;34m:\u001b[0m\u001b[0;34m\u001b[0m\u001b[0;34m\u001b[0m\u001b[0m\n\u001b[0;32m---> 13\u001b[0;31m             \u001b[0mcoins_needed\u001b[0m \u001b[0;34m=\u001b[0m \u001b[0;34m[\u001b[0m\u001b[0ma_coin\u001b[0m\u001b[0;34m]\u001b[0m \u001b[0;34m+\u001b[0m \u001b[0mget_change_complete_search\u001b[0m\u001b[0;34m(\u001b[0m\u001b[0mavailable_coins\u001b[0m\u001b[0;34m,\u001b[0m \u001b[0mchange_to_give\u001b[0m \u001b[0;34m-\u001b[0m \u001b[0ma_coin\u001b[0m\u001b[0;34m)\u001b[0m\u001b[0;34m\u001b[0m\u001b[0;34m\u001b[0m\u001b[0m\n\u001b[0m\u001b[1;32m     14\u001b[0m             \u001b[0mcoins_count\u001b[0m \u001b[0;34m=\u001b[0m \u001b[0mlen\u001b[0m\u001b[0;34m(\u001b[0m\u001b[0mcoins_needed\u001b[0m\u001b[0;34m)\u001b[0m\u001b[0;34m\u001b[0m\u001b[0;34m\u001b[0m\u001b[0m\n\u001b[1;32m     15\u001b[0m             \u001b[0;32mif\u001b[0m \u001b[0;34m(\u001b[0m\u001b[0mcoins_count\u001b[0m \u001b[0;34m<\u001b[0m \u001b[0mminimal_number_of_coins\u001b[0m\u001b[0;34m)\u001b[0m\u001b[0;34m:\u001b[0m\u001b[0;34m\u001b[0m\u001b[0;34m\u001b[0m\u001b[0m\n",
      "\u001b[0;32m<ipython-input-113-f1c19d37498b>\u001b[0m in \u001b[0;36mget_change_complete_search\u001b[0;34m(available_coins, change_to_give)\u001b[0m\n\u001b[1;32m     11\u001b[0m \u001b[0;34m\u001b[0m\u001b[0m\n\u001b[1;32m     12\u001b[0m         \u001b[0;32mfor\u001b[0m \u001b[0ma_coin\u001b[0m \u001b[0;32min\u001b[0m \u001b[0;34m[\u001b[0m\u001b[0mfitting_coin\u001b[0m \u001b[0;32mfor\u001b[0m \u001b[0mfitting_coin\u001b[0m \u001b[0;32min\u001b[0m \u001b[0mavailable_coins\u001b[0m \u001b[0;32mif\u001b[0m \u001b[0mfitting_coin\u001b[0m \u001b[0;34m<\u001b[0m \u001b[0mchange_to_give\u001b[0m\u001b[0;34m]\u001b[0m\u001b[0;34m:\u001b[0m\u001b[0;34m\u001b[0m\u001b[0;34m\u001b[0m\u001b[0m\n\u001b[0;32m---> 13\u001b[0;31m             \u001b[0mcoins_needed\u001b[0m \u001b[0;34m=\u001b[0m \u001b[0;34m[\u001b[0m\u001b[0ma_coin\u001b[0m\u001b[0;34m]\u001b[0m \u001b[0;34m+\u001b[0m \u001b[0mget_change_complete_search\u001b[0m\u001b[0;34m(\u001b[0m\u001b[0mavailable_coins\u001b[0m\u001b[0;34m,\u001b[0m \u001b[0mchange_to_give\u001b[0m \u001b[0;34m-\u001b[0m \u001b[0ma_coin\u001b[0m\u001b[0;34m)\u001b[0m\u001b[0;34m\u001b[0m\u001b[0;34m\u001b[0m\u001b[0m\n\u001b[0m\u001b[1;32m     14\u001b[0m             \u001b[0mcoins_count\u001b[0m \u001b[0;34m=\u001b[0m \u001b[0mlen\u001b[0m\u001b[0;34m(\u001b[0m\u001b[0mcoins_needed\u001b[0m\u001b[0;34m)\u001b[0m\u001b[0;34m\u001b[0m\u001b[0;34m\u001b[0m\u001b[0m\n\u001b[1;32m     15\u001b[0m             \u001b[0;32mif\u001b[0m \u001b[0;34m(\u001b[0m\u001b[0mcoins_count\u001b[0m \u001b[0;34m<\u001b[0m \u001b[0mminimal_number_of_coins\u001b[0m\u001b[0;34m)\u001b[0m\u001b[0;34m:\u001b[0m\u001b[0;34m\u001b[0m\u001b[0;34m\u001b[0m\u001b[0m\n",
      "\u001b[0;32m<ipython-input-113-f1c19d37498b>\u001b[0m in \u001b[0;36mget_change_complete_search\u001b[0;34m(available_coins, change_to_give)\u001b[0m\n\u001b[1;32m     11\u001b[0m \u001b[0;34m\u001b[0m\u001b[0m\n\u001b[1;32m     12\u001b[0m         \u001b[0;32mfor\u001b[0m \u001b[0ma_coin\u001b[0m \u001b[0;32min\u001b[0m \u001b[0;34m[\u001b[0m\u001b[0mfitting_coin\u001b[0m \u001b[0;32mfor\u001b[0m \u001b[0mfitting_coin\u001b[0m \u001b[0;32min\u001b[0m \u001b[0mavailable_coins\u001b[0m \u001b[0;32mif\u001b[0m \u001b[0mfitting_coin\u001b[0m \u001b[0;34m<\u001b[0m \u001b[0mchange_to_give\u001b[0m\u001b[0;34m]\u001b[0m\u001b[0;34m:\u001b[0m\u001b[0;34m\u001b[0m\u001b[0;34m\u001b[0m\u001b[0m\n\u001b[0;32m---> 13\u001b[0;31m             \u001b[0mcoins_needed\u001b[0m \u001b[0;34m=\u001b[0m \u001b[0;34m[\u001b[0m\u001b[0ma_coin\u001b[0m\u001b[0;34m]\u001b[0m \u001b[0;34m+\u001b[0m \u001b[0mget_change_complete_search\u001b[0m\u001b[0;34m(\u001b[0m\u001b[0mavailable_coins\u001b[0m\u001b[0;34m,\u001b[0m \u001b[0mchange_to_give\u001b[0m \u001b[0;34m-\u001b[0m \u001b[0ma_coin\u001b[0m\u001b[0;34m)\u001b[0m\u001b[0;34m\u001b[0m\u001b[0;34m\u001b[0m\u001b[0m\n\u001b[0m\u001b[1;32m     14\u001b[0m             \u001b[0mcoins_count\u001b[0m \u001b[0;34m=\u001b[0m \u001b[0mlen\u001b[0m\u001b[0;34m(\u001b[0m\u001b[0mcoins_needed\u001b[0m\u001b[0;34m)\u001b[0m\u001b[0;34m\u001b[0m\u001b[0;34m\u001b[0m\u001b[0m\n\u001b[1;32m     15\u001b[0m             \u001b[0;32mif\u001b[0m \u001b[0;34m(\u001b[0m\u001b[0mcoins_count\u001b[0m \u001b[0;34m<\u001b[0m \u001b[0mminimal_number_of_coins\u001b[0m\u001b[0;34m)\u001b[0m\u001b[0;34m:\u001b[0m\u001b[0;34m\u001b[0m\u001b[0;34m\u001b[0m\u001b[0m\n",
      "\u001b[0;32m<ipython-input-113-f1c19d37498b>\u001b[0m in \u001b[0;36mget_change_complete_search\u001b[0;34m(available_coins, change_to_give)\u001b[0m\n\u001b[1;32m     11\u001b[0m \u001b[0;34m\u001b[0m\u001b[0m\n\u001b[1;32m     12\u001b[0m         \u001b[0;32mfor\u001b[0m \u001b[0ma_coin\u001b[0m \u001b[0;32min\u001b[0m \u001b[0;34m[\u001b[0m\u001b[0mfitting_coin\u001b[0m \u001b[0;32mfor\u001b[0m \u001b[0mfitting_coin\u001b[0m \u001b[0;32min\u001b[0m \u001b[0mavailable_coins\u001b[0m \u001b[0;32mif\u001b[0m \u001b[0mfitting_coin\u001b[0m \u001b[0;34m<\u001b[0m \u001b[0mchange_to_give\u001b[0m\u001b[0;34m]\u001b[0m\u001b[0;34m:\u001b[0m\u001b[0;34m\u001b[0m\u001b[0;34m\u001b[0m\u001b[0m\n\u001b[0;32m---> 13\u001b[0;31m             \u001b[0mcoins_needed\u001b[0m \u001b[0;34m=\u001b[0m \u001b[0;34m[\u001b[0m\u001b[0ma_coin\u001b[0m\u001b[0;34m]\u001b[0m \u001b[0;34m+\u001b[0m \u001b[0mget_change_complete_search\u001b[0m\u001b[0;34m(\u001b[0m\u001b[0mavailable_coins\u001b[0m\u001b[0;34m,\u001b[0m \u001b[0mchange_to_give\u001b[0m \u001b[0;34m-\u001b[0m \u001b[0ma_coin\u001b[0m\u001b[0;34m)\u001b[0m\u001b[0;34m\u001b[0m\u001b[0;34m\u001b[0m\u001b[0m\n\u001b[0m\u001b[1;32m     14\u001b[0m             \u001b[0mcoins_count\u001b[0m \u001b[0;34m=\u001b[0m \u001b[0mlen\u001b[0m\u001b[0;34m(\u001b[0m\u001b[0mcoins_needed\u001b[0m\u001b[0;34m)\u001b[0m\u001b[0;34m\u001b[0m\u001b[0;34m\u001b[0m\u001b[0m\n\u001b[1;32m     15\u001b[0m             \u001b[0;32mif\u001b[0m \u001b[0;34m(\u001b[0m\u001b[0mcoins_count\u001b[0m \u001b[0;34m<\u001b[0m \u001b[0mminimal_number_of_coins\u001b[0m\u001b[0;34m)\u001b[0m\u001b[0;34m:\u001b[0m\u001b[0;34m\u001b[0m\u001b[0;34m\u001b[0m\u001b[0m\n",
      "\u001b[0;32m<ipython-input-113-f1c19d37498b>\u001b[0m in \u001b[0;36mget_change_complete_search\u001b[0;34m(available_coins, change_to_give)\u001b[0m\n\u001b[1;32m     11\u001b[0m \u001b[0;34m\u001b[0m\u001b[0m\n\u001b[1;32m     12\u001b[0m         \u001b[0;32mfor\u001b[0m \u001b[0ma_coin\u001b[0m \u001b[0;32min\u001b[0m \u001b[0;34m[\u001b[0m\u001b[0mfitting_coin\u001b[0m \u001b[0;32mfor\u001b[0m \u001b[0mfitting_coin\u001b[0m \u001b[0;32min\u001b[0m \u001b[0mavailable_coins\u001b[0m \u001b[0;32mif\u001b[0m \u001b[0mfitting_coin\u001b[0m \u001b[0;34m<\u001b[0m \u001b[0mchange_to_give\u001b[0m\u001b[0;34m]\u001b[0m\u001b[0;34m:\u001b[0m\u001b[0;34m\u001b[0m\u001b[0;34m\u001b[0m\u001b[0m\n\u001b[0;32m---> 13\u001b[0;31m             \u001b[0mcoins_needed\u001b[0m \u001b[0;34m=\u001b[0m \u001b[0;34m[\u001b[0m\u001b[0ma_coin\u001b[0m\u001b[0;34m]\u001b[0m \u001b[0;34m+\u001b[0m \u001b[0mget_change_complete_search\u001b[0m\u001b[0;34m(\u001b[0m\u001b[0mavailable_coins\u001b[0m\u001b[0;34m,\u001b[0m \u001b[0mchange_to_give\u001b[0m \u001b[0;34m-\u001b[0m \u001b[0ma_coin\u001b[0m\u001b[0;34m)\u001b[0m\u001b[0;34m\u001b[0m\u001b[0;34m\u001b[0m\u001b[0m\n\u001b[0m\u001b[1;32m     14\u001b[0m             \u001b[0mcoins_count\u001b[0m \u001b[0;34m=\u001b[0m \u001b[0mlen\u001b[0m\u001b[0;34m(\u001b[0m\u001b[0mcoins_needed\u001b[0m\u001b[0;34m)\u001b[0m\u001b[0;34m\u001b[0m\u001b[0;34m\u001b[0m\u001b[0m\n\u001b[1;32m     15\u001b[0m             \u001b[0;32mif\u001b[0m \u001b[0;34m(\u001b[0m\u001b[0mcoins_count\u001b[0m \u001b[0;34m<\u001b[0m \u001b[0mminimal_number_of_coins\u001b[0m\u001b[0;34m)\u001b[0m\u001b[0;34m:\u001b[0m\u001b[0;34m\u001b[0m\u001b[0;34m\u001b[0m\u001b[0m\n",
      "\u001b[0;32m<ipython-input-113-f1c19d37498b>\u001b[0m in \u001b[0;36mget_change_complete_search\u001b[0;34m(available_coins, change_to_give)\u001b[0m\n\u001b[1;32m     11\u001b[0m \u001b[0;34m\u001b[0m\u001b[0m\n\u001b[1;32m     12\u001b[0m         \u001b[0;32mfor\u001b[0m \u001b[0ma_coin\u001b[0m \u001b[0;32min\u001b[0m \u001b[0;34m[\u001b[0m\u001b[0mfitting_coin\u001b[0m \u001b[0;32mfor\u001b[0m \u001b[0mfitting_coin\u001b[0m \u001b[0;32min\u001b[0m \u001b[0mavailable_coins\u001b[0m \u001b[0;32mif\u001b[0m \u001b[0mfitting_coin\u001b[0m \u001b[0;34m<\u001b[0m \u001b[0mchange_to_give\u001b[0m\u001b[0;34m]\u001b[0m\u001b[0;34m:\u001b[0m\u001b[0;34m\u001b[0m\u001b[0;34m\u001b[0m\u001b[0m\n\u001b[0;32m---> 13\u001b[0;31m             \u001b[0mcoins_needed\u001b[0m \u001b[0;34m=\u001b[0m \u001b[0;34m[\u001b[0m\u001b[0ma_coin\u001b[0m\u001b[0;34m]\u001b[0m \u001b[0;34m+\u001b[0m \u001b[0mget_change_complete_search\u001b[0m\u001b[0;34m(\u001b[0m\u001b[0mavailable_coins\u001b[0m\u001b[0;34m,\u001b[0m \u001b[0mchange_to_give\u001b[0m \u001b[0;34m-\u001b[0m \u001b[0ma_coin\u001b[0m\u001b[0;34m)\u001b[0m\u001b[0;34m\u001b[0m\u001b[0;34m\u001b[0m\u001b[0m\n\u001b[0m\u001b[1;32m     14\u001b[0m             \u001b[0mcoins_count\u001b[0m \u001b[0;34m=\u001b[0m \u001b[0mlen\u001b[0m\u001b[0;34m(\u001b[0m\u001b[0mcoins_needed\u001b[0m\u001b[0;34m)\u001b[0m\u001b[0;34m\u001b[0m\u001b[0;34m\u001b[0m\u001b[0m\n\u001b[1;32m     15\u001b[0m             \u001b[0;32mif\u001b[0m \u001b[0;34m(\u001b[0m\u001b[0mcoins_count\u001b[0m \u001b[0;34m<\u001b[0m \u001b[0mminimal_number_of_coins\u001b[0m\u001b[0;34m)\u001b[0m\u001b[0;34m:\u001b[0m\u001b[0;34m\u001b[0m\u001b[0;34m\u001b[0m\u001b[0m\n",
      "\u001b[0;32m<ipython-input-113-f1c19d37498b>\u001b[0m in \u001b[0;36mget_change_complete_search\u001b[0;34m(available_coins, change_to_give)\u001b[0m\n\u001b[1;32m     11\u001b[0m \u001b[0;34m\u001b[0m\u001b[0m\n\u001b[1;32m     12\u001b[0m         \u001b[0;32mfor\u001b[0m \u001b[0ma_coin\u001b[0m \u001b[0;32min\u001b[0m \u001b[0;34m[\u001b[0m\u001b[0mfitting_coin\u001b[0m \u001b[0;32mfor\u001b[0m \u001b[0mfitting_coin\u001b[0m \u001b[0;32min\u001b[0m \u001b[0mavailable_coins\u001b[0m \u001b[0;32mif\u001b[0m \u001b[0mfitting_coin\u001b[0m \u001b[0;34m<\u001b[0m \u001b[0mchange_to_give\u001b[0m\u001b[0;34m]\u001b[0m\u001b[0;34m:\u001b[0m\u001b[0;34m\u001b[0m\u001b[0;34m\u001b[0m\u001b[0m\n\u001b[0;32m---> 13\u001b[0;31m             \u001b[0mcoins_needed\u001b[0m \u001b[0;34m=\u001b[0m \u001b[0;34m[\u001b[0m\u001b[0ma_coin\u001b[0m\u001b[0;34m]\u001b[0m \u001b[0;34m+\u001b[0m \u001b[0mget_change_complete_search\u001b[0m\u001b[0;34m(\u001b[0m\u001b[0mavailable_coins\u001b[0m\u001b[0;34m,\u001b[0m \u001b[0mchange_to_give\u001b[0m \u001b[0;34m-\u001b[0m \u001b[0ma_coin\u001b[0m\u001b[0;34m)\u001b[0m\u001b[0;34m\u001b[0m\u001b[0;34m\u001b[0m\u001b[0m\n\u001b[0m\u001b[1;32m     14\u001b[0m             \u001b[0mcoins_count\u001b[0m \u001b[0;34m=\u001b[0m \u001b[0mlen\u001b[0m\u001b[0;34m(\u001b[0m\u001b[0mcoins_needed\u001b[0m\u001b[0;34m)\u001b[0m\u001b[0;34m\u001b[0m\u001b[0;34m\u001b[0m\u001b[0m\n\u001b[1;32m     15\u001b[0m             \u001b[0;32mif\u001b[0m \u001b[0;34m(\u001b[0m\u001b[0mcoins_count\u001b[0m \u001b[0;34m<\u001b[0m \u001b[0mminimal_number_of_coins\u001b[0m\u001b[0;34m)\u001b[0m\u001b[0;34m:\u001b[0m\u001b[0;34m\u001b[0m\u001b[0;34m\u001b[0m\u001b[0m\n",
      "\u001b[0;32m<ipython-input-113-f1c19d37498b>\u001b[0m in \u001b[0;36mget_change_complete_search\u001b[0;34m(available_coins, change_to_give)\u001b[0m\n\u001b[1;32m     11\u001b[0m \u001b[0;34m\u001b[0m\u001b[0m\n\u001b[1;32m     12\u001b[0m         \u001b[0;32mfor\u001b[0m \u001b[0ma_coin\u001b[0m \u001b[0;32min\u001b[0m \u001b[0;34m[\u001b[0m\u001b[0mfitting_coin\u001b[0m \u001b[0;32mfor\u001b[0m \u001b[0mfitting_coin\u001b[0m \u001b[0;32min\u001b[0m \u001b[0mavailable_coins\u001b[0m \u001b[0;32mif\u001b[0m \u001b[0mfitting_coin\u001b[0m \u001b[0;34m<\u001b[0m \u001b[0mchange_to_give\u001b[0m\u001b[0;34m]\u001b[0m\u001b[0;34m:\u001b[0m\u001b[0;34m\u001b[0m\u001b[0;34m\u001b[0m\u001b[0m\n\u001b[0;32m---> 13\u001b[0;31m             \u001b[0mcoins_needed\u001b[0m \u001b[0;34m=\u001b[0m \u001b[0;34m[\u001b[0m\u001b[0ma_coin\u001b[0m\u001b[0;34m]\u001b[0m \u001b[0;34m+\u001b[0m \u001b[0mget_change_complete_search\u001b[0m\u001b[0;34m(\u001b[0m\u001b[0mavailable_coins\u001b[0m\u001b[0;34m,\u001b[0m \u001b[0mchange_to_give\u001b[0m \u001b[0;34m-\u001b[0m \u001b[0ma_coin\u001b[0m\u001b[0;34m)\u001b[0m\u001b[0;34m\u001b[0m\u001b[0;34m\u001b[0m\u001b[0m\n\u001b[0m\u001b[1;32m     14\u001b[0m             \u001b[0mcoins_count\u001b[0m \u001b[0;34m=\u001b[0m \u001b[0mlen\u001b[0m\u001b[0;34m(\u001b[0m\u001b[0mcoins_needed\u001b[0m\u001b[0;34m)\u001b[0m\u001b[0;34m\u001b[0m\u001b[0;34m\u001b[0m\u001b[0m\n\u001b[1;32m     15\u001b[0m             \u001b[0;32mif\u001b[0m \u001b[0;34m(\u001b[0m\u001b[0mcoins_count\u001b[0m \u001b[0;34m<\u001b[0m \u001b[0mminimal_number_of_coins\u001b[0m\u001b[0;34m)\u001b[0m\u001b[0;34m:\u001b[0m\u001b[0;34m\u001b[0m\u001b[0;34m\u001b[0m\u001b[0m\n",
      "\u001b[0;32m<ipython-input-113-f1c19d37498b>\u001b[0m in \u001b[0;36mget_change_complete_search\u001b[0;34m(available_coins, change_to_give)\u001b[0m\n\u001b[1;32m     11\u001b[0m \u001b[0;34m\u001b[0m\u001b[0m\n\u001b[1;32m     12\u001b[0m         \u001b[0;32mfor\u001b[0m \u001b[0ma_coin\u001b[0m \u001b[0;32min\u001b[0m \u001b[0;34m[\u001b[0m\u001b[0mfitting_coin\u001b[0m \u001b[0;32mfor\u001b[0m \u001b[0mfitting_coin\u001b[0m \u001b[0;32min\u001b[0m \u001b[0mavailable_coins\u001b[0m \u001b[0;32mif\u001b[0m \u001b[0mfitting_coin\u001b[0m \u001b[0;34m<\u001b[0m \u001b[0mchange_to_give\u001b[0m\u001b[0;34m]\u001b[0m\u001b[0;34m:\u001b[0m\u001b[0;34m\u001b[0m\u001b[0;34m\u001b[0m\u001b[0m\n\u001b[0;32m---> 13\u001b[0;31m             \u001b[0mcoins_needed\u001b[0m \u001b[0;34m=\u001b[0m \u001b[0;34m[\u001b[0m\u001b[0ma_coin\u001b[0m\u001b[0;34m]\u001b[0m \u001b[0;34m+\u001b[0m \u001b[0mget_change_complete_search\u001b[0m\u001b[0;34m(\u001b[0m\u001b[0mavailable_coins\u001b[0m\u001b[0;34m,\u001b[0m \u001b[0mchange_to_give\u001b[0m \u001b[0;34m-\u001b[0m \u001b[0ma_coin\u001b[0m\u001b[0;34m)\u001b[0m\u001b[0;34m\u001b[0m\u001b[0;34m\u001b[0m\u001b[0m\n\u001b[0m\u001b[1;32m     14\u001b[0m             \u001b[0mcoins_count\u001b[0m \u001b[0;34m=\u001b[0m \u001b[0mlen\u001b[0m\u001b[0;34m(\u001b[0m\u001b[0mcoins_needed\u001b[0m\u001b[0;34m)\u001b[0m\u001b[0;34m\u001b[0m\u001b[0;34m\u001b[0m\u001b[0m\n\u001b[1;32m     15\u001b[0m             \u001b[0;32mif\u001b[0m \u001b[0;34m(\u001b[0m\u001b[0mcoins_count\u001b[0m \u001b[0;34m<\u001b[0m \u001b[0mminimal_number_of_coins\u001b[0m\u001b[0;34m)\u001b[0m\u001b[0;34m:\u001b[0m\u001b[0;34m\u001b[0m\u001b[0;34m\u001b[0m\u001b[0m\n",
      "\u001b[0;32m<ipython-input-113-f1c19d37498b>\u001b[0m in \u001b[0;36mget_change_complete_search\u001b[0;34m(available_coins, change_to_give)\u001b[0m\n\u001b[1;32m     11\u001b[0m \u001b[0;34m\u001b[0m\u001b[0m\n\u001b[1;32m     12\u001b[0m         \u001b[0;32mfor\u001b[0m \u001b[0ma_coin\u001b[0m \u001b[0;32min\u001b[0m \u001b[0;34m[\u001b[0m\u001b[0mfitting_coin\u001b[0m \u001b[0;32mfor\u001b[0m \u001b[0mfitting_coin\u001b[0m \u001b[0;32min\u001b[0m \u001b[0mavailable_coins\u001b[0m \u001b[0;32mif\u001b[0m \u001b[0mfitting_coin\u001b[0m \u001b[0;34m<\u001b[0m \u001b[0mchange_to_give\u001b[0m\u001b[0;34m]\u001b[0m\u001b[0;34m:\u001b[0m\u001b[0;34m\u001b[0m\u001b[0;34m\u001b[0m\u001b[0m\n\u001b[0;32m---> 13\u001b[0;31m             \u001b[0mcoins_needed\u001b[0m \u001b[0;34m=\u001b[0m \u001b[0;34m[\u001b[0m\u001b[0ma_coin\u001b[0m\u001b[0;34m]\u001b[0m \u001b[0;34m+\u001b[0m \u001b[0mget_change_complete_search\u001b[0m\u001b[0;34m(\u001b[0m\u001b[0mavailable_coins\u001b[0m\u001b[0;34m,\u001b[0m \u001b[0mchange_to_give\u001b[0m \u001b[0;34m-\u001b[0m \u001b[0ma_coin\u001b[0m\u001b[0;34m)\u001b[0m\u001b[0;34m\u001b[0m\u001b[0;34m\u001b[0m\u001b[0m\n\u001b[0m\u001b[1;32m     14\u001b[0m             \u001b[0mcoins_count\u001b[0m \u001b[0;34m=\u001b[0m \u001b[0mlen\u001b[0m\u001b[0;34m(\u001b[0m\u001b[0mcoins_needed\u001b[0m\u001b[0;34m)\u001b[0m\u001b[0;34m\u001b[0m\u001b[0;34m\u001b[0m\u001b[0m\n\u001b[1;32m     15\u001b[0m             \u001b[0;32mif\u001b[0m \u001b[0;34m(\u001b[0m\u001b[0mcoins_count\u001b[0m \u001b[0;34m<\u001b[0m \u001b[0mminimal_number_of_coins\u001b[0m\u001b[0;34m)\u001b[0m\u001b[0;34m:\u001b[0m\u001b[0;34m\u001b[0m\u001b[0;34m\u001b[0m\u001b[0m\n",
      "\u001b[0;32m<ipython-input-113-f1c19d37498b>\u001b[0m in \u001b[0;36mget_change_complete_search\u001b[0;34m(available_coins, change_to_give)\u001b[0m\n\u001b[1;32m     11\u001b[0m \u001b[0;34m\u001b[0m\u001b[0m\n\u001b[1;32m     12\u001b[0m         \u001b[0;32mfor\u001b[0m \u001b[0ma_coin\u001b[0m \u001b[0;32min\u001b[0m \u001b[0;34m[\u001b[0m\u001b[0mfitting_coin\u001b[0m \u001b[0;32mfor\u001b[0m \u001b[0mfitting_coin\u001b[0m \u001b[0;32min\u001b[0m \u001b[0mavailable_coins\u001b[0m \u001b[0;32mif\u001b[0m \u001b[0mfitting_coin\u001b[0m \u001b[0;34m<\u001b[0m \u001b[0mchange_to_give\u001b[0m\u001b[0;34m]\u001b[0m\u001b[0;34m:\u001b[0m\u001b[0;34m\u001b[0m\u001b[0;34m\u001b[0m\u001b[0m\n\u001b[0;32m---> 13\u001b[0;31m             \u001b[0mcoins_needed\u001b[0m \u001b[0;34m=\u001b[0m \u001b[0;34m[\u001b[0m\u001b[0ma_coin\u001b[0m\u001b[0;34m]\u001b[0m \u001b[0;34m+\u001b[0m \u001b[0mget_change_complete_search\u001b[0m\u001b[0;34m(\u001b[0m\u001b[0mavailable_coins\u001b[0m\u001b[0;34m,\u001b[0m \u001b[0mchange_to_give\u001b[0m \u001b[0;34m-\u001b[0m \u001b[0ma_coin\u001b[0m\u001b[0;34m)\u001b[0m\u001b[0;34m\u001b[0m\u001b[0;34m\u001b[0m\u001b[0m\n\u001b[0m\u001b[1;32m     14\u001b[0m             \u001b[0mcoins_count\u001b[0m \u001b[0;34m=\u001b[0m \u001b[0mlen\u001b[0m\u001b[0;34m(\u001b[0m\u001b[0mcoins_needed\u001b[0m\u001b[0;34m)\u001b[0m\u001b[0;34m\u001b[0m\u001b[0;34m\u001b[0m\u001b[0m\n\u001b[1;32m     15\u001b[0m             \u001b[0;32mif\u001b[0m \u001b[0;34m(\u001b[0m\u001b[0mcoins_count\u001b[0m \u001b[0;34m<\u001b[0m \u001b[0mminimal_number_of_coins\u001b[0m\u001b[0;34m)\u001b[0m\u001b[0;34m:\u001b[0m\u001b[0;34m\u001b[0m\u001b[0;34m\u001b[0m\u001b[0m\n",
      "\u001b[0;32m<ipython-input-113-f1c19d37498b>\u001b[0m in \u001b[0;36mget_change_complete_search\u001b[0;34m(available_coins, change_to_give)\u001b[0m\n\u001b[1;32m     11\u001b[0m \u001b[0;34m\u001b[0m\u001b[0m\n\u001b[1;32m     12\u001b[0m         \u001b[0;32mfor\u001b[0m \u001b[0ma_coin\u001b[0m \u001b[0;32min\u001b[0m \u001b[0;34m[\u001b[0m\u001b[0mfitting_coin\u001b[0m \u001b[0;32mfor\u001b[0m \u001b[0mfitting_coin\u001b[0m \u001b[0;32min\u001b[0m \u001b[0mavailable_coins\u001b[0m \u001b[0;32mif\u001b[0m \u001b[0mfitting_coin\u001b[0m \u001b[0;34m<\u001b[0m \u001b[0mchange_to_give\u001b[0m\u001b[0;34m]\u001b[0m\u001b[0;34m:\u001b[0m\u001b[0;34m\u001b[0m\u001b[0;34m\u001b[0m\u001b[0m\n\u001b[0;32m---> 13\u001b[0;31m             \u001b[0mcoins_needed\u001b[0m \u001b[0;34m=\u001b[0m \u001b[0;34m[\u001b[0m\u001b[0ma_coin\u001b[0m\u001b[0;34m]\u001b[0m \u001b[0;34m+\u001b[0m \u001b[0mget_change_complete_search\u001b[0m\u001b[0;34m(\u001b[0m\u001b[0mavailable_coins\u001b[0m\u001b[0;34m,\u001b[0m \u001b[0mchange_to_give\u001b[0m \u001b[0;34m-\u001b[0m \u001b[0ma_coin\u001b[0m\u001b[0;34m)\u001b[0m\u001b[0;34m\u001b[0m\u001b[0;34m\u001b[0m\u001b[0m\n\u001b[0m\u001b[1;32m     14\u001b[0m             \u001b[0mcoins_count\u001b[0m \u001b[0;34m=\u001b[0m \u001b[0mlen\u001b[0m\u001b[0;34m(\u001b[0m\u001b[0mcoins_needed\u001b[0m\u001b[0;34m)\u001b[0m\u001b[0;34m\u001b[0m\u001b[0;34m\u001b[0m\u001b[0m\n\u001b[1;32m     15\u001b[0m             \u001b[0;32mif\u001b[0m \u001b[0;34m(\u001b[0m\u001b[0mcoins_count\u001b[0m \u001b[0;34m<\u001b[0m \u001b[0mminimal_number_of_coins\u001b[0m\u001b[0;34m)\u001b[0m\u001b[0;34m:\u001b[0m\u001b[0;34m\u001b[0m\u001b[0;34m\u001b[0m\u001b[0m\n",
      "\u001b[0;32m<ipython-input-113-f1c19d37498b>\u001b[0m in \u001b[0;36mget_change_complete_search\u001b[0;34m(available_coins, change_to_give)\u001b[0m\n\u001b[1;32m     11\u001b[0m \u001b[0;34m\u001b[0m\u001b[0m\n\u001b[1;32m     12\u001b[0m         \u001b[0;32mfor\u001b[0m \u001b[0ma_coin\u001b[0m \u001b[0;32min\u001b[0m \u001b[0;34m[\u001b[0m\u001b[0mfitting_coin\u001b[0m \u001b[0;32mfor\u001b[0m \u001b[0mfitting_coin\u001b[0m \u001b[0;32min\u001b[0m \u001b[0mavailable_coins\u001b[0m \u001b[0;32mif\u001b[0m \u001b[0mfitting_coin\u001b[0m \u001b[0;34m<\u001b[0m \u001b[0mchange_to_give\u001b[0m\u001b[0;34m]\u001b[0m\u001b[0;34m:\u001b[0m\u001b[0;34m\u001b[0m\u001b[0;34m\u001b[0m\u001b[0m\n\u001b[0;32m---> 13\u001b[0;31m             \u001b[0mcoins_needed\u001b[0m \u001b[0;34m=\u001b[0m \u001b[0;34m[\u001b[0m\u001b[0ma_coin\u001b[0m\u001b[0;34m]\u001b[0m \u001b[0;34m+\u001b[0m \u001b[0mget_change_complete_search\u001b[0m\u001b[0;34m(\u001b[0m\u001b[0mavailable_coins\u001b[0m\u001b[0;34m,\u001b[0m \u001b[0mchange_to_give\u001b[0m \u001b[0;34m-\u001b[0m \u001b[0ma_coin\u001b[0m\u001b[0;34m)\u001b[0m\u001b[0;34m\u001b[0m\u001b[0;34m\u001b[0m\u001b[0m\n\u001b[0m\u001b[1;32m     14\u001b[0m             \u001b[0mcoins_count\u001b[0m \u001b[0;34m=\u001b[0m \u001b[0mlen\u001b[0m\u001b[0;34m(\u001b[0m\u001b[0mcoins_needed\u001b[0m\u001b[0;34m)\u001b[0m\u001b[0;34m\u001b[0m\u001b[0;34m\u001b[0m\u001b[0m\n\u001b[1;32m     15\u001b[0m             \u001b[0;32mif\u001b[0m \u001b[0;34m(\u001b[0m\u001b[0mcoins_count\u001b[0m \u001b[0;34m<\u001b[0m \u001b[0mminimal_number_of_coins\u001b[0m\u001b[0;34m)\u001b[0m\u001b[0;34m:\u001b[0m\u001b[0;34m\u001b[0m\u001b[0;34m\u001b[0m\u001b[0m\n",
      "\u001b[0;32m<ipython-input-113-f1c19d37498b>\u001b[0m in \u001b[0;36mget_change_complete_search\u001b[0;34m(available_coins, change_to_give)\u001b[0m\n\u001b[1;32m     11\u001b[0m \u001b[0;34m\u001b[0m\u001b[0m\n\u001b[1;32m     12\u001b[0m         \u001b[0;32mfor\u001b[0m \u001b[0ma_coin\u001b[0m \u001b[0;32min\u001b[0m \u001b[0;34m[\u001b[0m\u001b[0mfitting_coin\u001b[0m \u001b[0;32mfor\u001b[0m \u001b[0mfitting_coin\u001b[0m \u001b[0;32min\u001b[0m \u001b[0mavailable_coins\u001b[0m \u001b[0;32mif\u001b[0m \u001b[0mfitting_coin\u001b[0m \u001b[0;34m<\u001b[0m \u001b[0mchange_to_give\u001b[0m\u001b[0;34m]\u001b[0m\u001b[0;34m:\u001b[0m\u001b[0;34m\u001b[0m\u001b[0;34m\u001b[0m\u001b[0m\n\u001b[0;32m---> 13\u001b[0;31m             \u001b[0mcoins_needed\u001b[0m \u001b[0;34m=\u001b[0m \u001b[0;34m[\u001b[0m\u001b[0ma_coin\u001b[0m\u001b[0;34m]\u001b[0m \u001b[0;34m+\u001b[0m \u001b[0mget_change_complete_search\u001b[0m\u001b[0;34m(\u001b[0m\u001b[0mavailable_coins\u001b[0m\u001b[0;34m,\u001b[0m \u001b[0mchange_to_give\u001b[0m \u001b[0;34m-\u001b[0m \u001b[0ma_coin\u001b[0m\u001b[0;34m)\u001b[0m\u001b[0;34m\u001b[0m\u001b[0;34m\u001b[0m\u001b[0m\n\u001b[0m\u001b[1;32m     14\u001b[0m             \u001b[0mcoins_count\u001b[0m \u001b[0;34m=\u001b[0m \u001b[0mlen\u001b[0m\u001b[0;34m(\u001b[0m\u001b[0mcoins_needed\u001b[0m\u001b[0;34m)\u001b[0m\u001b[0;34m\u001b[0m\u001b[0;34m\u001b[0m\u001b[0m\n\u001b[1;32m     15\u001b[0m             \u001b[0;32mif\u001b[0m \u001b[0;34m(\u001b[0m\u001b[0mcoins_count\u001b[0m \u001b[0;34m<\u001b[0m \u001b[0mminimal_number_of_coins\u001b[0m\u001b[0;34m)\u001b[0m\u001b[0;34m:\u001b[0m\u001b[0;34m\u001b[0m\u001b[0;34m\u001b[0m\u001b[0m\n",
      "\u001b[0;32m<ipython-input-113-f1c19d37498b>\u001b[0m in \u001b[0;36mget_change_complete_search\u001b[0;34m(available_coins, change_to_give)\u001b[0m\n\u001b[1;32m     11\u001b[0m \u001b[0;34m\u001b[0m\u001b[0m\n\u001b[1;32m     12\u001b[0m         \u001b[0;32mfor\u001b[0m \u001b[0ma_coin\u001b[0m \u001b[0;32min\u001b[0m \u001b[0;34m[\u001b[0m\u001b[0mfitting_coin\u001b[0m \u001b[0;32mfor\u001b[0m \u001b[0mfitting_coin\u001b[0m \u001b[0;32min\u001b[0m \u001b[0mavailable_coins\u001b[0m \u001b[0;32mif\u001b[0m \u001b[0mfitting_coin\u001b[0m \u001b[0;34m<\u001b[0m \u001b[0mchange_to_give\u001b[0m\u001b[0;34m]\u001b[0m\u001b[0;34m:\u001b[0m\u001b[0;34m\u001b[0m\u001b[0;34m\u001b[0m\u001b[0m\n\u001b[0;32m---> 13\u001b[0;31m             \u001b[0mcoins_needed\u001b[0m \u001b[0;34m=\u001b[0m \u001b[0;34m[\u001b[0m\u001b[0ma_coin\u001b[0m\u001b[0;34m]\u001b[0m \u001b[0;34m+\u001b[0m \u001b[0mget_change_complete_search\u001b[0m\u001b[0;34m(\u001b[0m\u001b[0mavailable_coins\u001b[0m\u001b[0;34m,\u001b[0m \u001b[0mchange_to_give\u001b[0m \u001b[0;34m-\u001b[0m \u001b[0ma_coin\u001b[0m\u001b[0;34m)\u001b[0m\u001b[0;34m\u001b[0m\u001b[0;34m\u001b[0m\u001b[0m\n\u001b[0m\u001b[1;32m     14\u001b[0m             \u001b[0mcoins_count\u001b[0m \u001b[0;34m=\u001b[0m \u001b[0mlen\u001b[0m\u001b[0;34m(\u001b[0m\u001b[0mcoins_needed\u001b[0m\u001b[0;34m)\u001b[0m\u001b[0;34m\u001b[0m\u001b[0;34m\u001b[0m\u001b[0m\n\u001b[1;32m     15\u001b[0m             \u001b[0;32mif\u001b[0m \u001b[0;34m(\u001b[0m\u001b[0mcoins_count\u001b[0m \u001b[0;34m<\u001b[0m \u001b[0mminimal_number_of_coins\u001b[0m\u001b[0;34m)\u001b[0m\u001b[0;34m:\u001b[0m\u001b[0;34m\u001b[0m\u001b[0;34m\u001b[0m\u001b[0m\n",
      "\u001b[0;32m<ipython-input-113-f1c19d37498b>\u001b[0m in \u001b[0;36mget_change_complete_search\u001b[0;34m(available_coins, change_to_give)\u001b[0m\n\u001b[1;32m     11\u001b[0m \u001b[0;34m\u001b[0m\u001b[0m\n\u001b[1;32m     12\u001b[0m         \u001b[0;32mfor\u001b[0m \u001b[0ma_coin\u001b[0m \u001b[0;32min\u001b[0m \u001b[0;34m[\u001b[0m\u001b[0mfitting_coin\u001b[0m \u001b[0;32mfor\u001b[0m \u001b[0mfitting_coin\u001b[0m \u001b[0;32min\u001b[0m \u001b[0mavailable_coins\u001b[0m \u001b[0;32mif\u001b[0m \u001b[0mfitting_coin\u001b[0m \u001b[0;34m<\u001b[0m \u001b[0mchange_to_give\u001b[0m\u001b[0;34m]\u001b[0m\u001b[0;34m:\u001b[0m\u001b[0;34m\u001b[0m\u001b[0;34m\u001b[0m\u001b[0m\n\u001b[0;32m---> 13\u001b[0;31m             \u001b[0mcoins_needed\u001b[0m \u001b[0;34m=\u001b[0m \u001b[0;34m[\u001b[0m\u001b[0ma_coin\u001b[0m\u001b[0;34m]\u001b[0m \u001b[0;34m+\u001b[0m \u001b[0mget_change_complete_search\u001b[0m\u001b[0;34m(\u001b[0m\u001b[0mavailable_coins\u001b[0m\u001b[0;34m,\u001b[0m \u001b[0mchange_to_give\u001b[0m \u001b[0;34m-\u001b[0m \u001b[0ma_coin\u001b[0m\u001b[0;34m)\u001b[0m\u001b[0;34m\u001b[0m\u001b[0;34m\u001b[0m\u001b[0m\n\u001b[0m\u001b[1;32m     14\u001b[0m             \u001b[0mcoins_count\u001b[0m \u001b[0;34m=\u001b[0m \u001b[0mlen\u001b[0m\u001b[0;34m(\u001b[0m\u001b[0mcoins_needed\u001b[0m\u001b[0;34m)\u001b[0m\u001b[0;34m\u001b[0m\u001b[0;34m\u001b[0m\u001b[0m\n\u001b[1;32m     15\u001b[0m             \u001b[0;32mif\u001b[0m \u001b[0;34m(\u001b[0m\u001b[0mcoins_count\u001b[0m \u001b[0;34m<\u001b[0m \u001b[0mminimal_number_of_coins\u001b[0m\u001b[0;34m)\u001b[0m\u001b[0;34m:\u001b[0m\u001b[0;34m\u001b[0m\u001b[0;34m\u001b[0m\u001b[0m\n",
      "\u001b[0;32m<ipython-input-113-f1c19d37498b>\u001b[0m in \u001b[0;36mget_change_complete_search\u001b[0;34m(available_coins, change_to_give)\u001b[0m\n\u001b[1;32m      3\u001b[0m     \u001b[0mcoins_for_change\u001b[0m \u001b[0;34m=\u001b[0m \u001b[0;34m[\u001b[0m\u001b[0;34m]\u001b[0m\u001b[0;34m\u001b[0m\u001b[0;34m\u001b[0m\u001b[0m\n\u001b[1;32m      4\u001b[0m \u001b[0;34m\u001b[0m\u001b[0m\n\u001b[0;32m----> 5\u001b[0;31m     \u001b[0;32mif\u001b[0m \u001b[0mchange_to_give\u001b[0m \u001b[0;32min\u001b[0m \u001b[0mavailable_coins\u001b[0m\u001b[0;34m:\u001b[0m\u001b[0;34m\u001b[0m\u001b[0;34m\u001b[0m\u001b[0m\n\u001b[0m\u001b[1;32m      6\u001b[0m         \u001b[0mminimal_number_of_coins\u001b[0m \u001b[0;34m=\u001b[0m \u001b[0;36m1\u001b[0m\u001b[0;34m\u001b[0m\u001b[0;34m\u001b[0m\u001b[0m\n\u001b[1;32m      7\u001b[0m         \u001b[0mcoins_for_change\u001b[0m \u001b[0;34m=\u001b[0m \u001b[0;34m[\u001b[0m\u001b[0mchange_to_give\u001b[0m\u001b[0;34m]\u001b[0m\u001b[0;34m\u001b[0m\u001b[0;34m\u001b[0m\u001b[0m\n",
      "\u001b[0;31mKeyboardInterrupt\u001b[0m: "
     ]
    }
   ],
   "source": [
    "ping = 0\n",
    "get_change_complete_search([1, 2, 5, 10, 21, 50], 63)"
   ]
  },
  {
   "cell_type": "code",
   "execution_count": 141,
   "metadata": {},
   "outputs": [
    {
     "data": {
      "text/plain": [
       "396354125"
      ]
     },
     "execution_count": 141,
     "metadata": {},
     "output_type": "execute_result"
    }
   ],
   "source": [
    "ping"
   ]
  },
  {
   "cell_type": "markdown",
   "metadata": {},
   "source": [
    "## Memoization Table"
   ]
  },
  {
   "cell_type": "markdown",
   "metadata": {},
   "source": [
    "Since we learned that we run in a pretty large number of recursive calls which are calculating most results over and over again we could try an obvious approach to mitigate this problem: store already computed results in a table and return these if it comes to use such a result a second / third / etc. time.\n",
    "\n",
    "So we introduce a table of lists (`known_results`) where we store a result as soon as we have it computed:"
   ]
  },
  {
   "cell_type": "code",
   "execution_count": 151,
   "metadata": {},
   "outputs": [],
   "source": [
    "def get_change_memoization(available_coins, change_to_give, known_results):\n",
    "    minimal_number_of_coins = change_to_give # worst case to give n one cent coins\n",
    "    coins_for_change = []\n",
    "    \n",
    "    if change_to_give in available_coins:\n",
    "        minimal_number_of_coins = 1\n",
    "        coins_for_change = [change_to_give]\n",
    "        known_results[change_to_give] = coins_for_change\n",
    "        \n",
    "    elif known_results[change_to_give]:\n",
    "        coins_for_change = known_results[change_to_give]\n",
    "    else:\n",
    "        global ping\n",
    "        ping += 1\n",
    "\n",
    "        for a_coin in [fitting_coin for fitting_coin in available_coins if fitting_coin < change_to_give]:\n",
    "            coins_needed = [a_coin] + get_change_memoization(available_coins, change_to_give - a_coin, known_results)\n",
    "            coins_count = len(coins_needed)\n",
    "            if (coins_count < minimal_number_of_coins):\n",
    "                minimal_number_of_coins = coins_count\n",
    "                coins_for_change = coins_needed\n",
    "                known_results[change_to_give] = coins_for_change\n",
    "    return coins_for_change"
   ]
  },
  {
   "cell_type": "code",
   "execution_count": 152,
   "metadata": {},
   "outputs": [
    {
     "data": {
      "text/plain": [
       "[10, 10, 11]"
      ]
     },
     "execution_count": 152,
     "metadata": {},
     "output_type": "execute_result"
    }
   ],
   "source": [
    "ping = 0\n",
    "get_change_memoization([1, 2, 5, 10, 11, 50], 31, [[]]*32)"
   ]
  },
  {
   "cell_type": "code",
   "execution_count": 153,
   "metadata": {},
   "outputs": [
    {
     "data": {
      "text/plain": [
       "26"
      ]
     },
     "execution_count": 153,
     "metadata": {},
     "output_type": "execute_result"
    }
   ],
   "source": [
    "ping"
   ]
  },
  {
   "cell_type": "markdown",
   "metadata": {},
   "source": [
    "OH. This brings hope back that we can use the computer to calculate the optimal change without getting a caffeine addiction. Lets try the impossible scenario from above:"
   ]
  },
  {
   "cell_type": "code",
   "execution_count": 154,
   "metadata": {},
   "outputs": [
    {
     "data": {
      "text/plain": [
       "[21, 21, 21]"
      ]
     },
     "execution_count": 154,
     "metadata": {},
     "output_type": "execute_result"
    }
   ],
   "source": [
    "ping = 0\n",
    "get_change_memoization([1, 2, 5, 10, 21, 50], 63, [[]]* 64)"
   ]
  },
  {
   "cell_type": "code",
   "execution_count": 155,
   "metadata": {},
   "outputs": [
    {
     "data": {
      "text/plain": [
       "57"
      ]
     },
     "execution_count": 155,
     "metadata": {},
     "output_type": "execute_result"
    }
   ],
   "source": [
    "ping"
   ]
  },
  {
   "cell_type": "markdown",
   "metadata": {},
   "source": [
    "## Dynamic Programming"
   ]
  }
 ],
 "metadata": {
  "kernelspec": {
   "display_name": "Python 3",
   "language": "python",
   "name": "python3"
  },
  "language_info": {
   "codemirror_mode": {
    "name": "ipython",
    "version": 3
   },
   "file_extension": ".py",
   "mimetype": "text/x-python",
   "name": "python",
   "nbconvert_exporter": "python",
   "pygments_lexer": "ipython3",
   "version": "3.6.8"
  }
 },
 "nbformat": 4,
 "nbformat_minor": 2
}
